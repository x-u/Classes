{
 "metadata": {
  "name": ""
 },
 "nbformat": 3,
 "nbformat_minor": 0,
 "worksheets": [
  {
   "cells": [
    {
     "cell_type": "code",
     "collapsed": false,
     "input": [
      "from pandas import DataFrame"
     ],
     "language": "python",
     "metadata": {},
     "outputs": [
      {
       "output_type": "stream",
       "stream": "stdout",
       "text": [
        "   Date  Reaction Time\n",
        "0     1              1\n",
        "1     2              2\n",
        "2     3              3\n",
        "3     4              4\n"
       ]
      }
     ],
     "prompt_number": 2
    },
    {
     "cell_type": "code",
     "collapsed": false,
     "input": [
      "import datetime\n",
      "base = datetime.date.today()\n",
      "base"
     ],
     "language": "python",
     "metadata": {},
     "outputs": [
      {
       "metadata": {},
       "output_type": "pyout",
       "prompt_number": 55,
       "text": [
        "datetime.date(2014, 1, 22)"
       ]
      }
     ],
     "prompt_number": 55
    },
    {
     "cell_type": "code",
     "collapsed": false,
     "input": [
      "dateList = [ base + datetime.timedelta(days=x) for x in range(0,20)]\n",
      "dateList[0].strftime(\"%m/%d/%y, %A\")"
     ],
     "language": "python",
     "metadata": {},
     "outputs": [
      {
       "metadata": {},
       "output_type": "pyout",
       "prompt_number": 31,
       "text": [
        "'01/22/14, Wednesday'"
       ]
      }
     ],
     "prompt_number": 31
    },
    {
     "cell_type": "code",
     "collapsed": false,
     "input": [
      "dateStr = [dateList[x].strftime(\"%m/%d/%y, %A\") for x in range(0,20)]\n",
      "dateStr"
     ],
     "language": "python",
     "metadata": {},
     "outputs": [
      {
       "metadata": {},
       "output_type": "pyout",
       "prompt_number": 37,
       "text": [
        "['01/22/14, Wednesday',\n",
        " '01/23/14, Thursday',\n",
        " '01/24/14, Friday',\n",
        " '01/25/14, Saturday',\n",
        " '01/26/14, Sunday',\n",
        " '01/27/14, Monday',\n",
        " '01/28/14, Tuesday',\n",
        " '01/29/14, Wednesday',\n",
        " '01/30/14, Thursday',\n",
        " '01/31/14, Friday',\n",
        " '02/01/14, Saturday',\n",
        " '02/02/14, Sunday',\n",
        " '02/03/14, Monday',\n",
        " '02/04/14, Tuesday',\n",
        " '02/05/14, Wednesday',\n",
        " '02/06/14, Thursday',\n",
        " '02/07/14, Friday',\n",
        " '02/08/14, Saturday',\n",
        " '02/09/14, Sunday',\n",
        " '02/10/14, Monday']"
       ]
      }
     ],
     "prompt_number": 37
    },
    {
     "cell_type": "code",
     "collapsed": false,
     "input": [
      "a = [None] * 20\n",
      "df = ({'Date': dateStr, 'Topic': a})\n",
      "df.to_excel('topicsList.xlsx', sheet_name='sheet1', index=False)"
     ],
     "language": "python",
     "metadata": {},
     "outputs": [],
     "prompt_number": 54
    }
   ],
   "metadata": {}
  }
 ]
}