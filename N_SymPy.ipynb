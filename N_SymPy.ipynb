{
 "metadata": {
  "name": ""
 },
 "nbformat": 3,
 "nbformat_minor": 0,
 "worksheets": [
  {
   "cells": [
    {
     "cell_type": "markdown",
     "metadata": {},
     "source": [
      "SymPy Tutorial for SciPy 2013\n",
      "\n",
      "Website: http://certik.github.io/scipy-2013-tutorial/html/index.html"
     ]
    },
    {
     "cell_type": "code",
     "collapsed": false,
     "input": [
      "import sympy\n",
      "from sympy import *\n",
      "init_printing()"
     ],
     "language": "python",
     "metadata": {},
     "outputs": [],
     "prompt_number": 235
    },
    {
     "cell_type": "code",
     "collapsed": false,
     "input": [
      "x, y, z = symbols('x y z')\n",
      "a, b, c = symbols('a b c')\n",
      "symbols('a:z')\n",
      "symbols('x5:10')"
     ],
     "language": "python",
     "metadata": {},
     "outputs": [
      {
       "latex": [
        "$$\\begin{pmatrix}x_{5}, & x_{6}, & x_{7}, & x_{8}, & x_{9}\\end{pmatrix}$$"
       ],
       "metadata": {},
       "output_type": "pyout",
       "png": "[encoded data removed]",
       "prompt_number": 236,
       "text": [
        "(x\u2085, x\u2086, x\u2087, x\u2088, x\u2089)"
       ]
      }
     ],
     "prompt_number": 236
    },
    {
     "cell_type": "code",
     "collapsed": false,
     "input": [
      "# Function that returns evaluation of many items in a list\n",
      "def evaluate (exprs, x, x0):\n",
      "    return [i.subs(x,x0) for i in exprs]\n",
      "exprs = [x**2, cos(x), x*y]\n",
      "print evaluate(exprs, x, 1)"
     ],
     "language": "python",
     "metadata": {},
     "outputs": [
      {
       "output_type": "stream",
       "stream": "stdout",
       "text": [
        "[1, cos(1), y]\n"
       ]
      }
     ],
     "prompt_number": 237
    },
    {
     "cell_type": "code",
     "collapsed": false,
     "input": [
      "v1 = (x+y)**2\n",
      "v2 = x**2+y**2+2*x*y\n",
      "v1 == v2, simplify(v1-v2)==0 # Symbolically & Same Value"
     ],
     "language": "python",
     "metadata": {},
     "outputs": [
      {
       "metadata": {},
       "output_type": "pyout",
       "prompt_number": 238,
       "text": [
        "(False, True)"
       ]
      }
     ],
     "prompt_number": 238
    },
    {
     "cell_type": "code",
     "collapsed": false,
     "input": [
      "# Diff Ways of Substitue Values\n",
      "v1.subs(x,5), v1.subs({x:3, y:2}), v1.subs([(x,3), (y,2)]), v1.subs({x:y, y:2})"
     ],
     "language": "python",
     "metadata": {},
     "outputs": [
      {
       "latex": [
        "$$\\begin{pmatrix}\\left(y + 5\\right)^{2}, & 25, & 25, & 16\\end{pmatrix}$$"
       ],
       "metadata": {},
       "output_type": "pyout",
       "png": "[encoded data removed]",
       "prompt_number": 239,
       "text": [
        "\u239b       2            \u239e\n",
        "\u239d(y + 5) , 25, 25, 16\u23a0"
       ]
      }
     ],
     "prompt_number": 239
    },
    {
     "cell_type": "code",
     "collapsed": false,
     "input": [
      "# Can substitue anything\n",
      "v3 = sin(x) + cos(x)\n",
      "v3.subs(sin(x), tan(x)), v3.subs(x, tan(x))"
     ],
     "language": "python",
     "metadata": {},
     "outputs": [
      {
       "latex": [
        "$$\\begin{pmatrix}\\cos{\\left (x \\right )} + \\tan{\\left (x \\right )}, & \\sin{\\left (\\tan{\\left (x \\right )} \\right )} + \\cos{\\left (\\tan{\\left (x \\right )} \\right )}\\end{pmatrix}$$"
       ],
       "metadata": {},
       "output_type": "pyout",
       "png": "[encoded data removed]",
       "prompt_number": 240,
       "text": [
        "(cos(x) + tan(x), sin(tan(x)) + cos(tan(x)))"
       ]
      }
     ],
     "prompt_number": 240
    },
    {
     "cell_type": "code",
     "collapsed": false,
     "input": [
      "v4 = x**4 + 1\n",
      "v4.subs(x**2, y)"
     ],
     "language": "python",
     "metadata": {},
     "outputs": [
      {
       "latex": [
        "$$y^{2} + 1$$"
       ],
       "metadata": {},
       "output_type": "pyout",
       "png": "[encoded data removed]",
       "prompt_number": 241,
       "text": [
        " 2    \n",
        "y  + 1"
       ]
      }
     ],
     "prompt_number": 241
    },
    {
     "cell_type": "code",
     "collapsed": false,
     "input": [
      "# Reduce a series to power<p\n",
      "def series_reduce(expr, x, p):\n",
      "\treturn expr.subs([(x**i,0) for i in range(11) if i>p])\n",
      "print series_reduce(1 - x**2/2 + x**4/24 - x**6/720 + x**8/40320, x, 5)"
     ],
     "language": "python",
     "metadata": {},
     "outputs": [
      {
       "output_type": "stream",
       "stream": "stdout",
       "text": [
        "x**4/24 - x**2/2 + 1\n"
       ]
      }
     ],
     "prompt_number": 242
    },
    {
     "cell_type": "code",
     "collapsed": false,
     "input": [
      "# Find the first place in the decimal expr where 999999 appears.\n",
      "def find_999999(expr, limit=100000):\n",
      "\tpos = str(N(pi,limit)).find('999') # or pi.evalf(limit).find('999')\n",
      "\tif pos < 0:\n",
      "\t\treturn False\n",
      "\treturn pos\n",
      "find_999999(pi)"
     ],
     "language": "python",
     "metadata": {},
     "outputs": [
      {
       "latex": [
        "$$763$$"
       ],
       "metadata": {},
       "output_type": "pyout",
       "png": "[encoded data removed]",
       "prompt_number": 243,
       "text": [
        "763"
       ]
      }
     ],
     "prompt_number": 243
    },
    {
     "cell_type": "code",
     "collapsed": false,
     "input": [
      "# Replace Even powers to y\n",
      "expr = x**4 - 4*x**3 + 4*x**2 - 2*x + 3\n",
      "replacements = [(x**i, y**i) for i in range(5) if i % 2 == 0]\n",
      "expr.subs(replacements)"
     ],
     "language": "python",
     "metadata": {},
     "outputs": [
      {
       "latex": [
        "$$- 4 x^{3} - 2 x + y^{4} + 4 y^{2} + 3$$"
       ],
       "metadata": {},
       "output_type": "pyout",
       "png": "[encoded data removed]",
       "prompt_number": 244,
       "text": [
        "     3          4      2    \n",
        "- 4\u22c5x  - 2\u22c5x + y  + 4\u22c5y  + 3"
       ]
      }
     ],
     "prompt_number": 244
    },
    {
     "cell_type": "code",
     "collapsed": false,
     "input": [
      "s = \"x + 1 + sin(pi)\"\n",
      "print s\n",
      "simplify(s)"
     ],
     "language": "python",
     "metadata": {},
     "outputs": [
      {
       "output_type": "stream",
       "stream": "stdout",
       "text": [
        "x + 1 + sin(pi)\n"
       ]
      },
      {
       "latex": [
        "$$x + 1$$"
       ],
       "metadata": {},
       "output_type": "pyout",
       "png": "[encoded data removed]",
       "prompt_number": 245,
       "text": [
        "x + 1"
       ]
      }
     ],
     "prompt_number": 245
    },
    {
     "cell_type": "code",
     "collapsed": false,
     "input": [
      "expr = pi + x+ cos(2*x)\n"
     ],
     "language": "python",
     "metadata": {},
     "outputs": [],
     "prompt_number": 246
    },
    {
     "cell_type": "code",
     "collapsed": false,
     "input": [
      "# Uses prevision everywhere\n",
      "print expr.evalf(100, subs={x:2.4})\n",
      "# Not correct prevision at 2.4\n",
      "print expr.subs(x, 2.4).evalf(100)"
     ],
     "language": "python",
     "metadata": {},
     "outputs": [
      {
       "output_type": "stream",
       "stream": "stdout",
       "text": [
        "5.629091637029239542010635063514390582200747581774870081818176121719754372977144944197540614398230493\n",
        "5.629091637029239547980605091759063795852595424765730820974944592307816406286208998628034825342117068\n"
       ]
      }
     ],
     "prompt_number": 247
    },
    {
     "cell_type": "code",
     "collapsed": false,
     "input": [
      "x + 1"
     ],
     "language": "python",
     "metadata": {},
     "outputs": [
      {
       "latex": [
        "$$x + 1$$"
       ],
       "metadata": {},
       "output_type": "pyout",
       "png": "[encoded data removed]",
       "prompt_number": 248,
       "text": [
        "x + 1"
       ]
      }
     ],
     "prompt_number": 248
    },
    {
     "cell_type": "code",
     "collapsed": false,
     "input": [
      "print sqrt(x**2 + 1)/(x + 5) -2\n",
      "init_printing()\n",
      "print sqrt(x**2 + 1)/(x + 5) -2\n",
      "print str(sqrt(x**2 + 1)/(x + 5) -2)\n",
      "sqrt(x**2 + 1)/(x + 5) -2/5"
     ],
     "language": "python",
     "metadata": {},
     "outputs": [
      {
       "output_type": "stream",
       "stream": "stdout",
       "text": [
        "-2 + sqrt(x**2 + 1)/(x + 5)\n",
        "-2 + sqrt(x**2 + 1)/(x + 5)\n",
        "-2 + sqrt(x**2 + 1)/(x + 5)\n"
       ]
      },
      {
       "latex": [
        "$$\\frac{\\sqrt{x^{2} + 1}}{x + 5}$$"
       ],
       "metadata": {},
       "output_type": "pyout",
       "png": "[encoded data removed]",
       "prompt_number": 249,
       "text": [
        "   ________\n",
        "  \u2571  2     \n",
        "\u2572\u2571  x  + 1 \n",
        "\u2500\u2500\u2500\u2500\u2500\u2500\u2500\u2500\u2500\u2500\u2500\n",
        "   x + 5   "
       ]
      }
     ],
     "prompt_number": 249
    },
    {
     "cell_type": "code",
     "collapsed": false,
     "input": [
      "sympify(\"sqrt(x**2 + 1)/(x + 5) -2/5\")"
     ],
     "language": "python",
     "metadata": {},
     "outputs": [
      {
       "latex": [
        "$$- \\frac{2}{5} + \\frac{\\sqrt{x^{2} + 1}}{x + 5}$$"
       ],
       "metadata": {},
       "output_type": "pyout",
       "png": "[encoded data removed]",
       "prompt_number": 250,
       "text": [
        "         ________\n",
        "        \u2571  2     \n",
        "  2   \u2572\u2571  x  + 1 \n",
        "- \u2500 + \u2500\u2500\u2500\u2500\u2500\u2500\u2500\u2500\u2500\u2500\u2500\n",
        "  5      x + 5   "
       ]
      }
     ],
     "prompt_number": 250
    },
    {
     "cell_type": "code",
     "collapsed": false,
     "input": [
      "print latex(sqrt(x**2 + 1)/(x + 5) -2/5)"
     ],
     "language": "python",
     "metadata": {},
     "outputs": [
      {
       "output_type": "stream",
       "stream": "stdout",
       "text": [
        "\\frac{\\sqrt{x^{2} + 1}}{x + 5}\n"
       ]
      }
     ],
     "prompt_number": 251
    },
    {
     "cell_type": "code",
     "collapsed": false,
     "input": [
      "simplify((x**3 + x**2 - x - 1)/(x**2 + 2*x + 1))"
     ],
     "language": "python",
     "metadata": {},
     "outputs": [
      {
       "latex": [
        "$$x - 1$$"
       ],
       "metadata": {},
       "output_type": "pyout",
       "png": "[encoded data removed]",
       "prompt_number": 252,
       "text": [
        "x - 1"
       ]
      }
     ],
     "prompt_number": 252
    },
    {
     "cell_type": "code",
     "collapsed": false,
     "input": [
      "print factor(x**2 + 2*x +1)\n",
      "print expand(x**2 + 2*x +1)\n",
      "print expand((x + 1)*(x - 2) - (x - 1)*x)"
     ],
     "language": "python",
     "metadata": {},
     "outputs": [
      {
       "output_type": "stream",
       "stream": "stdout",
       "text": [
        "(x + 1)**2\n",
        "x**2 + 2*x + 1\n",
        "-2\n"
       ]
      }
     ],
     "prompt_number": 253
    },
    {
     "cell_type": "code",
     "collapsed": false,
     "input": [
      "cancel((x**2 + 2*x + 1)/(x**2 + x))"
     ],
     "language": "python",
     "metadata": {},
     "outputs": [
      {
       "latex": [
        "$$\\frac{1}{x} \\left(x + 1\\right)$$"
       ],
       "metadata": {},
       "output_type": "pyout",
       "png": "[encoded data removed]",
       "prompt_number": 254,
       "text": [
        "x + 1\n",
        "\u2500\u2500\u2500\u2500\u2500\n",
        "  x  "
       ]
      }
     ],
     "prompt_number": 254
    },
    {
     "cell_type": "code",
     "collapsed": false,
     "input": [
      "print fraction((x**2 + 2*x + 1)/(x**2 + x))\n",
      "numer, denom == fraction((x**2 + 2*x + 1)/(x**2 + x))"
     ],
     "language": "python",
     "metadata": {},
     "outputs": [
      {
       "output_type": "stream",
       "stream": "stdout",
       "text": [
        "(x**2 + 2*x + 1, x**2 + x)\n"
       ]
      },
      {
       "metadata": {},
       "output_type": "pyout",
       "prompt_number": 255,
       "text": [
        "(<function sympy.simplify.simplify.numer>, False)"
       ]
      }
     ],
     "prompt_number": 255
    },
    {
     "cell_type": "code",
     "collapsed": false,
     "input": [
      "e1 = x*y + 2*x + 2*y + 5\n",
      "print e1\n",
      "print collect(e1, x)\n",
      "print collect(e1, y)\n",
      "print e1.coeff(x,1)"
     ],
     "language": "python",
     "metadata": {},
     "outputs": [
      {
       "output_type": "stream",
       "stream": "stdout",
       "text": [
        "x*y + 2*x + 2*y + 5\n",
        "x*(y + 2) + 2*y + 5\n",
        "2*x + y*(x + 2) + 5\n",
        "y + 2\n"
       ]
      }
     ],
     "prompt_number": 256
    },
    {
     "cell_type": "code",
     "collapsed": false,
     "input": [
      "e2 = (x+1) / x\n",
      "print apart(e2)\n",
      "e3 = (x+1)**2\n",
      "print expand(e3)"
     ],
     "language": "python",
     "metadata": {},
     "outputs": [
      {
       "output_type": "stream",
       "stream": "stdout",
       "text": [
        "1 + 1/x\n",
        "x**2 + 2*x + 1\n"
       ]
      }
     ],
     "prompt_number": 257
    },
    {
     "cell_type": "code",
     "collapsed": false,
     "input": [
      "expr = (4*x**3 + 21*x**2 + 10*x + 12)/(x**4 + 5*x**3 + 5*x**2 + 4*x)\n",
      "expr"
     ],
     "language": "python",
     "metadata": {},
     "outputs": [
      {
       "latex": [
        "$$\\frac{4 x^{3} + 21 x^{2} + 10 x + 12}{x^{4} + 5 x^{3} + 5 x^{2} + 4 x}$$"
       ],
       "metadata": {},
       "output_type": "pyout",
       "png": "[encoded data removed]",
       "prompt_number": 258,
       "text": [
        "   3       2            \n",
        "4\u22c5x  + 21\u22c5x  + 10\u22c5x + 12\n",
        "\u2500\u2500\u2500\u2500\u2500\u2500\u2500\u2500\u2500\u2500\u2500\u2500\u2500\u2500\u2500\u2500\u2500\u2500\u2500\u2500\u2500\u2500\u2500\u2500\n",
        "  4      3      2       \n",
        " x  + 5\u22c5x  + 5\u22c5x  + 4\u22c5x "
       ]
      }
     ],
     "prompt_number": 258
    },
    {
     "cell_type": "code",
     "collapsed": false,
     "input": [
      "apart(expr)"
     ],
     "language": "python",
     "metadata": {},
     "outputs": [
      {
       "latex": [
        "$$\\frac{2 x - 1}{x^{2} + x + 1} - \\frac{1}{x + 4} + \\frac{3}{x}$$"
       ],
       "metadata": {},
       "output_type": "pyout",
       "png": "[encoded data removed]",
       "prompt_number": 259,
       "text": [
        " 2\u22c5x - 1       1     3\n",
        "\u2500\u2500\u2500\u2500\u2500\u2500\u2500\u2500\u2500\u2500 - \u2500\u2500\u2500\u2500\u2500 + \u2500\n",
        " 2           x + 4   x\n",
        "x  + x + 1            "
       ]
      }
     ],
     "prompt_number": 259
    },
    {
     "cell_type": "code",
     "collapsed": false,
     "input": [
      "collect(expand((x+1)**2*(y+1)),x)"
     ],
     "language": "python",
     "metadata": {},
     "outputs": [
      {
       "latex": [
        "$$x^{2} \\left(y + 1\\right) + x \\left(2 y + 2\\right) + y + 1$$"
       ],
       "metadata": {},
       "output_type": "pyout",
       "png": "[encoded data removed]",
       "prompt_number": 260,
       "text": [
        " 2                              \n",
        "x \u22c5(y + 1) + x\u22c5(2\u22c5y + 2) + y + 1"
       ]
      }
     ],
     "prompt_number": 260
    },
    {
     "cell_type": "code",
     "collapsed": false,
     "input": [
      "exp(x)*(exp(y) + 1)"
     ],
     "language": "python",
     "metadata": {},
     "outputs": [
      {
       "latex": [
        "$$\\left(e^{y} + 1\\right) e^{x}$$"
       ],
       "metadata": {},
       "output_type": "pyout",
       "png": "[encoded data removed]",
       "prompt_number": 261,
       "text": [
        "\u239b y    \u239e  x\n",
        "\u239d\u212f  + 1\u23a0\u22c5\u212f "
       ]
      }
     ],
     "prompt_number": 261
    },
    {
     "cell_type": "code",
     "collapsed": false,
     "input": [
      "expand(exp(x)*(exp(y) + 1))"
     ],
     "language": "python",
     "metadata": {},
     "outputs": [
      {
       "latex": [
        "$$e^{x} e^{y} + e^{x}$$"
       ],
       "metadata": {},
       "output_type": "pyout",
       "png": "[encoded data removed]",
       "prompt_number": 262,
       "text": [
        " x  y    x\n",
        "\u212f \u22c5\u212f  + \u212f "
       ]
      }
     ],
     "prompt_number": 262
    },
    {
     "cell_type": "code",
     "collapsed": false,
     "input": [
      "powsimp(expand(exp(x)*(exp(y) + 1)))"
     ],
     "language": "python",
     "metadata": {},
     "outputs": [
      {
       "latex": [
        "$$e^{x} + e^{x + y}$$"
       ],
       "metadata": {},
       "output_type": "pyout",
       "png": "[encoded data removed]",
       "prompt_number": 263,
       "text": [
        " x    x + y\n",
        "\u212f  + \u212f     "
       ]
      }
     ],
     "prompt_number": 263
    },
    {
     "cell_type": "code",
     "collapsed": false,
     "input": [
      "(x**y)**(z + 1)"
     ],
     "language": "python",
     "metadata": {},
     "outputs": [
      {
       "latex": [
        "$$\\left(x^{y}\\right)^{z + 1}$$"
       ],
       "metadata": {},
       "output_type": "pyout",
       "png": "[encoded data removed]",
       "prompt_number": 264,
       "text": [
        "    z + 1\n",
        "\u239b y\u239e     \n",
        "\u239dx \u23a0     "
       ]
      }
     ],
     "prompt_number": 264
    },
    {
     "cell_type": "code",
     "collapsed": false,
     "input": [
      "powdenest(expand_power_exp((x**y)**(z + 1)), force=True)"
     ],
     "language": "python",
     "metadata": {},
     "outputs": [
      {
       "latex": [
        "$$x^{y z + y}$$"
       ],
       "metadata": {},
       "output_type": "pyout",
       "png": "[encoded data removed]",
       "prompt_number": 265,
       "text": [
        " y\u22c5z + y\n",
        "x       "
       ]
      }
     ],
     "prompt_number": 265
    },
    {
     "cell_type": "code",
     "collapsed": false,
     "input": [
      "log(x**y*a**b)"
     ],
     "language": "python",
     "metadata": {},
     "outputs": [
      {
       "latex": [
        "$$\\log{\\left (a^{b} x^{y} \\right )}$$"
       ],
       "metadata": {},
       "output_type": "pyout",
       "png": "[encoded data removed]",
       "prompt_number": 266,
       "text": [
        "   \u239b b  y\u239e\n",
        "log\u239da \u22c5x \u23a0"
       ]
      }
     ],
     "prompt_number": 266
    },
    {
     "cell_type": "code",
     "collapsed": false,
     "input": [
      "logcombine(expand_log(log(x**y*a**b), force=True))"
     ],
     "language": "python",
     "metadata": {},
     "outputs": [
      {
       "latex": [
        "$$b \\log{\\left (a \\right )} + y \\log{\\left (x \\right )}$$"
       ],
       "metadata": {},
       "output_type": "pyout",
       "png": "[encoded data removed]",
       "prompt_number": 267,
       "text": [
        "b\u22c5log(a) + y\u22c5log(x)"
       ]
      }
     ],
     "prompt_number": 267
    },
    {
     "cell_type": "code",
     "collapsed": false,
     "input": [
      "expand_trig(sin(x+y))"
     ],
     "language": "python",
     "metadata": {},
     "outputs": [
      {
       "latex": [
        "$$\\sin{\\left (x \\right )} \\cos{\\left (y \\right )} + \\sin{\\left (y \\right )} \\cos{\\left (x \\right )}$$"
       ],
       "metadata": {},
       "output_type": "pyout",
       "png": "[encoded data removed]",
       "prompt_number": 268,
       "text": [
        "sin(x)\u22c5cos(y) + sin(y)\u22c5cos(x)"
       ]
      }
     ],
     "prompt_number": 268
    },
    {
     "cell_type": "code",
     "collapsed": false,
     "input": [
      "expand_trig(sin(x+y)).rewrite(tan)"
     ],
     "language": "python",
     "metadata": {},
     "outputs": [
      {
       "latex": [
        "$$\\frac{2 \\left(- \\tan^{2}{\\left (\\frac{x}{2} \\right )} + 1\\right) \\tan{\\left (\\frac{y}{2} \\right )}}{\\left(\\tan^{2}{\\left (\\frac{x}{2} \\right )} + 1\\right) \\left(\\tan^{2}{\\left (\\frac{y}{2} \\right )} + 1\\right)} + \\frac{2 \\left(- \\tan^{2}{\\left (\\frac{y}{2} \\right )} + 1\\right) \\tan{\\left (\\frac{x}{2} \\right )}}{\\left(\\tan^{2}{\\left (\\frac{x}{2} \\right )} + 1\\right) \\left(\\tan^{2}{\\left (\\frac{y}{2} \\right )} + 1\\right)}$$"
       ],
       "metadata": {},
       "output_type": "pyout",
       "png": "[encoded data removed]",
       "prompt_number": 269,
       "text": [
        "    \u239b     2\u239bx\u239e    \u239e    \u239by\u239e        \u239b     2\u239by\u239e    \u239e    \u239bx\u239e \n",
        "  2\u22c5\u239c- tan \u239c\u2500\u239f + 1\u239f\u22c5tan\u239c\u2500\u239f      2\u22c5\u239c- tan \u239c\u2500\u239f + 1\u239f\u22c5tan\u239c\u2500\u239f \n",
        "    \u239d      \u239d2\u23a0    \u23a0    \u239d2\u23a0        \u239d      \u239d2\u23a0    \u23a0    \u239d2\u23a0 \n",
        "\u2500\u2500\u2500\u2500\u2500\u2500\u2500\u2500\u2500\u2500\u2500\u2500\u2500\u2500\u2500\u2500\u2500\u2500\u2500\u2500\u2500\u2500\u2500\u2500\u2500\u2500\u2500 + \u2500\u2500\u2500\u2500\u2500\u2500\u2500\u2500\u2500\u2500\u2500\u2500\u2500\u2500\u2500\u2500\u2500\u2500\u2500\u2500\u2500\u2500\u2500\u2500\u2500\u2500\u2500\n",
        "\u239b   2\u239bx\u239e    \u239e \u239b   2\u239by\u239e    \u239e   \u239b   2\u239bx\u239e    \u239e \u239b   2\u239by\u239e    \u239e\n",
        "\u239ctan \u239c\u2500\u239f + 1\u239f\u22c5\u239ctan \u239c\u2500\u239f + 1\u239f   \u239ctan \u239c\u2500\u239f + 1\u239f\u22c5\u239ctan \u239c\u2500\u239f + 1\u239f\n",
        "\u239d    \u239d2\u23a0    \u23a0 \u239d    \u239d2\u23a0    \u23a0   \u239d    \u239d2\u23a0    \u23a0 \u239d    \u239d2\u23a0    \u23a0"
       ]
      }
     ],
     "prompt_number": 269
    },
    {
     "cell_type": "code",
     "collapsed": false,
     "input": [
      "gamma(x+4)"
     ],
     "language": "python",
     "metadata": {},
     "outputs": [
      {
       "latex": [
        "$$\\Gamma\\left(x + 4\\right)$$"
       ],
       "metadata": {},
       "output_type": "pyout",
       "png": "[encoded data removed]",
       "prompt_number": 270,
       "text": [
        "\u0393(x + 4)"
       ]
      }
     ],
     "prompt_number": 270
    },
    {
     "cell_type": "code",
     "collapsed": false,
     "input": [
      "expr = x**2*z + 4*x*y*z + 4*y**2*z\n",
      "expr"
     ],
     "language": "python",
     "metadata": {},
     "outputs": [
      {
       "latex": [
        "$$x^{2} z + 4 x y z + 4 y^{2} z$$"
       ],
       "metadata": {},
       "output_type": "pyout",
       "png": "[encoded data removed]",
       "prompt_number": 271,
       "text": [
        " 2                  2  \n",
        "x \u22c5z + 4\u22c5x\u22c5y\u22c5z + 4\u22c5y \u22c5z"
       ]
      }
     ],
     "prompt_number": 271
    },
    {
     "cell_type": "code",
     "collapsed": false,
     "input": [
      "factor_list(expr)"
     ],
     "language": "python",
     "metadata": {},
     "outputs": [
      {
       "latex": [
        "$$\\begin{pmatrix}1, & \\begin{bmatrix}\\begin{pmatrix}z, & 1\\end{pmatrix}, & \\begin{pmatrix}x + 2 y, & 2\\end{pmatrix}\\end{bmatrix}\\end{pmatrix}$$"
       ],
       "metadata": {},
       "output_type": "pyout",
       "png": "[encoded data removed]",
       "prompt_number": 272,
       "text": [
        "(1, [(z, 1), (x + 2\u22c5y, 2)])"
       ]
      }
     ],
     "prompt_number": 272
    },
    {
     "cell_type": "code",
     "collapsed": false,
     "input": [
      "solve(x**2 - 2*x + 3, x)"
     ],
     "language": "python",
     "metadata": {},
     "outputs": [
      {
       "latex": [
        "$$\\begin{bmatrix}1 - \\sqrt{2} i, & 1 + \\sqrt{2} i\\end{bmatrix}$$"
       ],
       "metadata": {},
       "output_type": "pyout",
       "png": "[encoded data removed]",
       "prompt_number": 273,
       "text": [
        "\u23a1      ___          ___  \u23a4\n",
        "\u23a31 - \u2572\u2571 2 \u22c5\u2148, 1 + \u2572\u2571 2 \u22c5\u2148\u23a6"
       ]
      }
     ],
     "prompt_number": 273
    },
    {
     "cell_type": "code",
     "collapsed": false,
     "input": [
      "expr = exp(x*(y+1))*(sin(x) +1)\n",
      "expr"
     ],
     "language": "python",
     "metadata": {},
     "outputs": [
      {
       "latex": [
        "$$\\left(\\sin{\\left (x \\right )} + 1\\right) e^{x \\left(y + 1\\right)}$$"
       ],
       "metadata": {},
       "output_type": "pyout",
       "png": "[encoded data removed]",
       "prompt_number": 274,
       "text": [
        "              x\u22c5(y + 1)\n",
        "(sin(x) + 1)\u22c5\u212f         "
       ]
      }
     ],
     "prompt_number": 274
    },
    {
     "cell_type": "code",
     "collapsed": false,
     "input": [
      "a = Wild('a', exclude=[x])"
     ],
     "language": "python",
     "metadata": {},
     "outputs": [],
     "prompt_number": 275
    },
    {
     "cell_type": "code",
     "collapsed": false,
     "input": [
      "pattern = exp(a*x)*(sin(x) +1)"
     ],
     "language": "python",
     "metadata": {},
     "outputs": [],
     "prompt_number": 276
    },
    {
     "cell_type": "code",
     "collapsed": false,
     "input": [
      "expr.match(pattern)"
     ],
     "language": "python",
     "metadata": {},
     "outputs": [
      {
       "latex": [
        "$$\\begin{Bmatrix}a : y + 1\\end{Bmatrix}$$"
       ],
       "metadata": {},
       "output_type": "pyout",
       "png": "[encoded data removed]",
       "prompt_number": 277,
       "text": [
        "{a: y + 1}"
       ]
      }
     ],
     "prompt_number": 277
    },
    {
     "cell_type": "code",
     "collapsed": false,
     "input": [
      "a = Wild('a')\n",
      "b = Wild('b')\n",
      "expr = x*y + 1\n",
      "pattern = a*b + 1\n",
      "expr.match(pattern)"
     ],
     "language": "python",
     "metadata": {},
     "outputs": [
      {
       "latex": [
        "$$\\begin{Bmatrix}a : x, & b : y\\end{Bmatrix}$$"
       ],
       "metadata": {},
       "output_type": "pyout",
       "png": "[encoded data removed]",
       "prompt_number": 278,
       "text": [
        "{a: x, b: y}"
       ]
      }
     ],
     "prompt_number": 278
    },
    {
     "cell_type": "code",
     "collapsed": false,
     "input": [
      "(2+3*y).match(a*x+b*y)"
     ],
     "language": "python",
     "metadata": {},
     "outputs": [
      {
       "latex": [
        "$$\\begin{Bmatrix}a : \\frac{2}{x}, & b : 3\\end{Bmatrix}$$"
       ],
       "metadata": {},
       "output_type": "pyout",
       "png": "[encoded data removed]",
       "prompt_number": 279,
       "text": [
        "\u23a7   2      \u23ab\n",
        "\u23a8a: \u2500, b: 3\u23ac\n",
        "\u23a9   x      \u23ad"
       ]
      }
     ],
     "prompt_number": 279
    },
    {
     "cell_type": "code",
     "collapsed": false,
     "input": [],
     "language": "python",
     "metadata": {},
     "outputs": [],
     "prompt_number": 279
    },
    {
     "cell_type": "code",
     "collapsed": false,
     "input": [],
     "language": "python",
     "metadata": {},
     "outputs": []
    }
   ],
   "metadata": {}
  }
 ]
}