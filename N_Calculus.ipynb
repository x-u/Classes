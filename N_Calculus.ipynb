{
 "metadata": {
  "name": ""
 },
 "nbformat": 3,
 "nbformat_minor": 0,
 "worksheets": [
  {
   "cells": [
    {
     "cell_type": "code",
     "collapsed": false,
     "input": [
      "import sympy\n",
      "from sympy import *\n",
      "a, b, c, x, y, z = symbols('a b c x y z')\n",
      "init_printing()"
     ],
     "language": "python",
     "metadata": {},
     "outputs": [],
     "prompt_number": 1
    },
    {
     "cell_type": "code",
     "collapsed": false,
     "input": [],
     "language": "python",
     "metadata": {},
     "outputs": [],
     "prompt_number": 13
    },
    {
     "cell_type": "code",
     "collapsed": false,
     "input": [
      "diff(exp(x)*cos(x),x)"
     ],
     "language": "python",
     "metadata": {},
     "outputs": [
      {
       "latex": [
        "$$- e^{x} \\sin{\\left (x \\right )} + e^{x} \\cos{\\left (x \\right )}$$"
       ],
       "metadata": {},
       "output_type": "pyout",
       "png": "[encoded data removed]",
       "prompt_number": 14,
       "text": [
        "   x           x       \n",
        "- \u212f \u22c5sin(x) + \u212f \u22c5cos(x)"
       ]
      }
     ],
     "prompt_number": 14
    },
    {
     "cell_type": "code",
     "collapsed": false,
     "input": [
      "diff(exp(x)*cos(x),x,4)"
     ],
     "language": "python",
     "metadata": {},
     "outputs": [
      {
       "latex": [
        "$$- 4 e^{x} \\cos{\\left (x \\right )}$$"
       ],
       "metadata": {},
       "output_type": "pyout",
       "png": "[encoded data removed]",
       "prompt_number": 15,
       "text": [
        "    x       \n",
        "-4\u22c5\u212f \u22c5cos(x)"
       ]
      }
     ],
     "prompt_number": 15
    },
    {
     "cell_type": "code",
     "collapsed": false,
     "input": [
      "diff(exp(x*y)*cos(x),x, 3,y, 4)"
     ],
     "language": "python",
     "metadata": {},
     "outputs": [
      {
       "latex": [
        "$$x \\left(x^{3} y^{3} \\cos{\\left (x \\right )} - 3 x^{3} y^{2} \\sin{\\left (x \\right )} - 3 x^{3} y \\cos{\\left (x \\right )} + x^{3} \\sin{\\left (x \\right )} + 12 x^{2} y^{2} \\cos{\\left (x \\right )} - 24 x^{2} y \\sin{\\left (x \\right )} - 12 x^{2} \\cos{\\left (x \\right )} + 36 x y \\cos{\\left (x \\right )} - 36 x \\sin{\\left (x \\right )} + 24 \\cos{\\left (x \\right )}\\right) e^{x y}$$"
       ],
       "metadata": {},
       "output_type": "pyout",
       "png": "[encoded data removed]",
       "prompt_number": 16,
       "text": [
        "  \u239b 3  3             3  2             3             3              2  2       \n",
        "x\u22c5\u239dx \u22c5y \u22c5cos(x) - 3\u22c5x \u22c5y \u22c5sin(x) - 3\u22c5x \u22c5y\u22c5cos(x) + x \u22c5sin(x) + 12\u22c5x \u22c5y \u22c5cos(x)\n",
        "\n",
        "       2                2                                                 \u239e  x\n",
        " - 24\u22c5x \u22c5y\u22c5sin(x) - 12\u22c5x \u22c5cos(x) + 36\u22c5x\u22c5y\u22c5cos(x) - 36\u22c5x\u22c5sin(x) + 24\u22c5cos(x)\u23a0\u22c5\u212f \n",
        "\n",
        "\u22c5y\n",
        "  "
       ]
      }
     ],
     "prompt_number": 16
    },
    {
     "cell_type": "code",
     "collapsed": false,
     "input": [
      "expr = Derivative(exp(x*y)*cos(x),x, x,2, y)\n",
      "expr"
     ],
     "language": "python",
     "metadata": {},
     "outputs": [
      {
       "latex": [
        "$$\\frac{\\partial^{4}}{\\partial x^{3}\\partial y} \\left(e^{x y} \\cos{\\left (x \\right )}\\right)$$"
       ],
       "metadata": {},
       "output_type": "pyout",
       "png": "[encoded data removed]",
       "prompt_number": 18,
       "text": [
        "   4               \n",
        "  \u2202   \u239b x\u22c5y       \u239e\n",
        "\u2500\u2500\u2500\u2500\u2500\u2500\u239d\u212f   \u22c5cos(x)\u23a0\n",
        "     3             \n",
        "\u2202y \u2202x              "
       ]
      }
     ],
     "prompt_number": 18
    },
    {
     "cell_type": "code",
     "collapsed": false,
     "input": [
      "expr.doit()"
     ],
     "language": "python",
     "metadata": {},
     "outputs": [
      {
       "latex": [
        "$$\\left(x y^{3} \\cos{\\left (x \\right )} - 3 x y^{2} \\sin{\\left (x \\right )} - 3 x y \\cos{\\left (x \\right )} + x \\sin{\\left (x \\right )} + 3 y^{2} \\cos{\\left (x \\right )} - 6 y \\sin{\\left (x \\right )} - 3 \\cos{\\left (x \\right )}\\right) e^{x y}$$"
       ],
       "metadata": {},
       "output_type": "pyout",
       "png": "[encoded data removed]",
       "prompt_number": 22,
       "text": [
        "\u239b   3               2                                       2                 \n",
        "\u239dx\u22c5y \u22c5cos(x) - 3\u22c5x\u22c5y \u22c5sin(x) - 3\u22c5x\u22c5y\u22c5cos(x) + x\u22c5sin(x) + 3\u22c5y \u22c5cos(x) - 6\u22c5y\u22c5sin\n",
        "\n",
        "              \u239e  x\u22c5y\n",
        "(x) - 3\u22c5cos(x)\u23a0\u22c5\u212f   "
       ]
      }
     ],
     "prompt_number": 22
    },
    {
     "cell_type": "code",
     "collapsed": false,
     "input": [
      "integrate(exp(-x), (x,0,oo))"
     ],
     "language": "python",
     "metadata": {},
     "outputs": [
      {
       "latex": [
        "$$1$$"
       ],
       "metadata": {},
       "output_type": "pyout",
       "png": "[encoded data removed]",
       "prompt_number": 19,
       "text": [
        "1"
       ]
      }
     ],
     "prompt_number": 19
    },
    {
     "cell_type": "code",
     "collapsed": false,
     "input": [
      "Integral(exp(-x),(x,0,oo)) + Derivative(x,x) + 5"
     ],
     "language": "python",
     "metadata": {},
     "outputs": [
      {
       "latex": [
        "$$\\frac{d}{d x} x + \\int_{0}^{\\infty} e^{- x}\\, dx + 5$$"
       ],
       "metadata": {},
       "output_type": "pyout",
       "png": "[encoded data removed]",
       "prompt_number": 21,
       "text": [
        "        \u221e           \n",
        "        \u2320           \n",
        "d       \u23ae  -x       \n",
        "\u2500\u2500(x) + \u23ae \u212f   dx + 5\n",
        "dx      \u2321           \n",
        "        0           "
       ]
      }
     ],
     "prompt_number": 21
    },
    {
     "cell_type": "code",
     "collapsed": false,
     "input": [
      "integrate(exp(exp(x)),x) # no closed-form solution"
     ],
     "language": "python",
     "metadata": {},
     "outputs": [
      {
       "latex": [
        "$$\\int e^{e^{x}}\\, dx$$"
       ],
       "metadata": {},
       "output_type": "pyout",
       "png": "[encoded data removed]",
       "prompt_number": 23,
       "text": [
        "\u2320         \n",
        "\u23ae  \u239b x\u239e   \n",
        "\u23ae  \u239d\u212f \u23a0   \n",
        "\u23ae \u212f     dx\n",
        "\u2321         "
       ]
      }
     ],
     "prompt_number": 23
    },
    {
     "cell_type": "code",
     "collapsed": false,
     "input": [
      "Integral(x**y*exp(-x),(x,0,oo)).doit()"
     ],
     "language": "python",
     "metadata": {},
     "outputs": [
      {
       "latex": [
        "$$\\begin{cases} \\Gamma\\left(y + 1\\right) & \\text{for}\\: - \\Re{y} < 1 \\\\\\int_{0}^{\\infty} x^{y} e^{- x}\\, dx & \\text{otherwise} \\end{cases}$$"
       ],
       "metadata": {},
       "output_type": "pyout",
       "png": "[encoded data removed]",
       "prompt_number": 25,
       "text": [
        "\u23a7 \u0393(y + 1)    for -re(y) < 1\n",
        "\u23aa                           \n",
        "\u23aa\u221e                          \n",
        "\u23aa\u2320                          \n",
        "\u23a8\u23ae  y  -x                   \n",
        "\u23aa\u23ae x \u22c5\u212f   dx    otherwise   \n",
        "\u23aa\u2321                          \n",
        "\u23aa0                          \n",
        "\u23a9                           "
       ]
      }
     ],
     "prompt_number": 25
    },
    {
     "cell_type": "code",
     "collapsed": false,
     "input": [
      "print Integral(x**y*exp(-x),(x,0,oo)).doit()"
     ],
     "language": "python",
     "metadata": {},
     "outputs": [
      {
       "output_type": "stream",
       "stream": "stdout",
       "text": [
        "Piecewise((gamma(y + 1), -re(y) < 1), (Integral(x**y*exp(-x), (x, 0, oo)), True))\n"
       ]
      }
     ],
     "prompt_number": 26
    },
    {
     "cell_type": "code",
     "collapsed": false,
     "input": [
      "Piecewise((x,x<1),(0,True))"
     ],
     "language": "python",
     "metadata": {},
     "outputs": [
      {
       "latex": [
        "$$\\begin{cases} x & \\text{for}\\: x < 1 \\\\0 & \\text{otherwise} \\end{cases}$$"
       ],
       "metadata": {},
       "output_type": "pyout",
       "png": "[encoded data removed]",
       "prompt_number": 27,
       "text": [
        "\u23a7x  for x < 1\n",
        "\u23a8            \n",
        "\u23a90  otherwise"
       ]
      }
     ],
     "prompt_number": 27
    },
    {
     "cell_type": "code",
     "collapsed": false,
     "input": [
      "limit(sin(x)/x,x,0)"
     ],
     "language": "python",
     "metadata": {},
     "outputs": [
      {
       "latex": [
        "$$1$$"
       ],
       "metadata": {},
       "output_type": "pyout",
       "png": "[encoded data removed]",
       "prompt_number": 28,
       "text": [
        "1"
       ]
      }
     ],
     "prompt_number": 28
    },
    {
     "cell_type": "code",
     "collapsed": false,
     "input": [
      "integrate(exp(x)*DiracDelta(x),(x,-oo,oo))"
     ],
     "language": "python",
     "metadata": {},
     "outputs": [
      {
       "latex": [
        "$$1$$"
       ],
       "metadata": {},
       "output_type": "pyout",
       "png": "[encoded data removed]",
       "prompt_number": 29,
       "text": [
        "1"
       ]
      }
     ],
     "prompt_number": 29
    },
    {
     "cell_type": "code",
     "collapsed": false,
     "input": [
      "print diff(DiracDelta(x),x)"
     ],
     "language": "python",
     "metadata": {},
     "outputs": [
      {
       "output_type": "stream",
       "stream": "stdout",
       "text": [
        "DiracDelta(x, 1)\n"
       ]
      }
     ],
     "prompt_number": 30
    },
    {
     "cell_type": "code",
     "collapsed": false,
     "input": [
      "Limit(sin(x)/x,x,0)"
     ],
     "language": "python",
     "metadata": {},
     "outputs": [
      {
       "latex": [
        "$$\\lim_{x \\to 0}\\left(\\frac{1}{x} \\sin{\\left (x \\right )}\\right)$$"
       ],
       "metadata": {},
       "output_type": "pyout",
       "png": "[encoded data removed]",
       "prompt_number": 31,
       "text": [
        "    sin(x)\n",
        "lim \u2500\u2500\u2500\u2500\u2500\u2500\n",
        "x->0  x   "
       ]
      }
     ],
     "prompt_number": 31
    },
    {
     "cell_type": "code",
     "collapsed": false,
     "input": [
      "Limit(sin(x)/x,x,0).doit()"
     ],
     "language": "python",
     "metadata": {},
     "outputs": [
      {
       "latex": [
        "$$1$$"
       ],
       "metadata": {},
       "output_type": "pyout",
       "png": "[encoded data removed]",
       "prompt_number": 32,
       "text": [
        "1"
       ]
      }
     ],
     "prompt_number": 32
    },
    {
     "cell_type": "code",
     "collapsed": false,
     "input": [
      "expr = exp(sin(x))\n",
      "expr"
     ],
     "language": "python",
     "metadata": {},
     "outputs": [
      {
       "latex": [
        "$$e^{\\sin{\\left (x \\right )}}$$"
       ],
       "metadata": {},
       "output_type": "pyout",
       "png": "[encoded data removed]",
       "prompt_number": 34,
       "text": [
        " sin(x)\n",
        "\u212f      "
       ]
      }
     ],
     "prompt_number": 34
    },
    {
     "cell_type": "code",
     "collapsed": false,
     "input": [
      "expr.series(x,0,9)"
     ],
     "language": "python",
     "metadata": {},
     "outputs": [
      {
       "latex": [
        "$$1 + x + \\frac{x^{2}}{2} - \\frac{x^{4}}{8} - \\frac{x^{5}}{15} - \\frac{x^{6}}{240} + \\frac{x^{7}}{90} + \\frac{31 x^{8}}{5760} + \\mathcal{O}\\left(x^{9}\\right)$$"
       ],
       "metadata": {},
       "output_type": "pyout",
       "png": "[encoded data removed]",
       "prompt_number": 35,
       "text": [
        "         2    4    5     6    7       8        \n",
        "        x    x    x     x    x    31\u22c5x     \u239b 9\u239e\n",
        "1 + x + \u2500\u2500 - \u2500\u2500 - \u2500\u2500 - \u2500\u2500\u2500 + \u2500\u2500 + \u2500\u2500\u2500\u2500\u2500 + O\u239dx \u23a0\n",
        "        2    8    15   240   90    5760        "
       ]
      }
     ],
     "prompt_number": 35
    },
    {
     "cell_type": "code",
     "collapsed": false,
     "input": [
      "expr.series(x,0,9).removeO()"
     ],
     "language": "python",
     "metadata": {},
     "outputs": [
      {
       "latex": [
        "$$\\frac{31 x^{8}}{5760} + \\frac{x^{7}}{90} - \\frac{x^{6}}{240} - \\frac{x^{5}}{15} - \\frac{x^{4}}{8} + \\frac{x^{2}}{2} + x + 1$$"
       ],
       "metadata": {},
       "output_type": "pyout",
       "png": "[encoded data removed]",
       "prompt_number": 38,
       "text": [
        "    8    7     6    5    4    2        \n",
        "31\u22c5x    x     x    x    x    x         \n",
        "\u2500\u2500\u2500\u2500\u2500 + \u2500\u2500 - \u2500\u2500\u2500 - \u2500\u2500 - \u2500\u2500 + \u2500\u2500 + x + 1\n",
        " 5760   90   240   15   8    2         "
       ]
      }
     ],
     "prompt_number": 38
    },
    {
     "cell_type": "code",
     "collapsed": false,
     "input": [
      "exp(1/x).series(x,oo)"
     ],
     "language": "python",
     "metadata": {},
     "outputs": [
      {
       "latex": [
        "$$1 + \\frac{1}{x} + \\frac{1}{2 x^{2}} + \\frac{1}{6 x^{3}} + \\frac{1}{24 x^{4}} + \\frac{1}{120 x^{5}}$$"
       ],
       "metadata": {},
       "output_type": "pyout",
       "png": "[encoded data removed]",
       "prompt_number": 39,
       "text": [
        "    1    1      1       1       1   \n",
        "1 + \u2500 + \u2500\u2500\u2500\u2500 + \u2500\u2500\u2500\u2500 + \u2500\u2500\u2500\u2500\u2500 + \u2500\u2500\u2500\u2500\u2500\u2500\n",
        "    x      2      3       4        5\n",
        "        2\u22c5x    6\u22c5x    24\u22c5x    120\u22c5x "
       ]
      }
     ],
     "prompt_number": 39
    },
    {
     "cell_type": "code",
     "collapsed": false,
     "input": [],
     "language": "python",
     "metadata": {},
     "outputs": []
    }
   ],
   "metadata": {}
  }
 ]
}