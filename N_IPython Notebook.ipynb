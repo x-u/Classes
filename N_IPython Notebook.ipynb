{
 "metadata": {
  "name": ""
 },
 "nbformat": 3,
 "nbformat_minor": 0,
 "worksheets": [
  {
   "cells": [
    {
     "cell_type": "code",
     "collapsed": false,
     "input": [
      "import numpy as np\n",
      "# List ALL functions in Module\n",
      "np.random?"
     ],
     "language": "python",
     "metadata": {},
     "outputs": [],
     "prompt_number": 57
    },
    {
     "cell_type": "code",
     "collapsed": false,
     "input": [
      "# How to use it\n",
      "np.random.normal?"
     ],
     "language": "python",
     "metadata": {},
     "outputs": [],
     "prompt_number": 59
    },
    {
     "cell_type": "code",
     "collapsed": false,
     "input": [
      "# lognormal, standard_normal, etc\n",
      "np.random.*norm*?"
     ],
     "language": "python",
     "metadata": {},
     "outputs": [],
     "prompt_number": 60
    },
    {
     "cell_type": "code",
     "collapsed": false,
     "input": [
      "# Reference Card\n",
      "%quickref"
     ],
     "language": "python",
     "metadata": {},
     "outputs": [],
     "prompt_number": 69
    },
    {
     "cell_type": "code",
     "collapsed": false,
     "input": [
      "# Tab after .\n",
      "np.random."
     ],
     "language": "python",
     "metadata": {},
     "outputs": [
      {
       "ename": "SyntaxError",
       "evalue": "invalid syntax (<ipython-input-70-e96406c64088>, line 2)",
       "output_type": "pyerr",
       "traceback": [
        "\u001b[0;36m  File \u001b[0;32m\"<ipython-input-70-e96406c64088>\"\u001b[0;36m, line \u001b[0;32m2\u001b[0m\n\u001b[0;31m    np.random.\u001b[0m\n\u001b[0m              ^\u001b[0m\n\u001b[0;31mSyntaxError\u001b[0m\u001b[0;31m:\u001b[0m invalid syntax\n"
       ]
      }
     ],
     "prompt_number": 70
    },
    {
     "cell_type": "code",
     "collapsed": false,
     "input": [
      "# Magic: Timing a command\n",
      "%timeit range(10)"
     ],
     "language": "python",
     "metadata": {},
     "outputs": [
      {
       "output_type": "stream",
       "stream": "stdout",
       "text": [
        "1000000 loops, best of 3: 280 ns per loop\n"
       ]
      }
     ],
     "prompt_number": 79
    },
    {
     "cell_type": "code",
     "collapsed": false,
     "input": [
      "%matplotlib inline\n",
      "import matplotlib.pyplot as plt\n",
      "from matplotlib.pyplot import gcf"
     ],
     "language": "python",
     "metadata": {},
     "outputs": [],
     "prompt_number": 83
    },
    {
     "cell_type": "code",
     "collapsed": false,
     "input": [
      "from scipy.stats import norm\n",
      "x = np.linspace(-3,3,100)\n",
      "plt.plot(x, norm.pdf(x))\n",
      "plt.title('Normal')\n",
      "f = gcf()"
     ],
     "language": "python",
     "metadata": {},
     "outputs": [
      {
       "metadata": {},
       "output_type": "display_data",
       "png": "[encoded data removed]",
       "text": [
        "<matplotlib.figure.Figure at 0x10cbe5310>"
       ]
      }
     ],
     "prompt_number": 109
    },
    {
     "cell_type": "code",
     "collapsed": false,
     "input": [
      "# QT Console: working on the same notebook\n",
      "qtconsole --colors=linux"
     ],
     "language": "python",
     "metadata": {},
     "outputs": [],
     "prompt_number": 111
    },
    {
     "cell_type": "code",
     "collapsed": false,
     "input": [
      "a = 5; b = (1,2);\n",
      "%whos"
     ],
     "language": "python",
     "metadata": {},
     "outputs": [
      {
       "output_type": "stream",
       "stream": "stdout",
       "text": [
        "Variable   Type     Data/Info\n",
        "-----------------------------\n",
        "a          int      5\n",
        "b          tuple    n=2\n"
       ]
      }
     ],
     "prompt_number": 13
    },
    {
     "cell_type": "heading",
     "level": 2,
     "metadata": {},
     "source": [
      "Markdown Cells"
     ]
    },
    {
     "cell_type": "markdown",
     "metadata": {},
     "source": [
      "Press `Enter`; *italic* or **bold**"
     ]
    },
    {
     "cell_type": "markdown",
     "metadata": {},
     "source": [
      "Latex: either inline: $c = \\sqrt{a^2 + b^2}$\n",
      "or displayed:  $$c = \\sqrt{a^2 + b^2}$$"
     ]
    },
    {
     "cell_type": "markdown",
     "metadata": {},
     "source": [
      "You can build nested itemized or enumerated lists:\n",
      "\n",
      "* Itemized\n",
      "    - One Tab: Still solid\n",
      "        - One More Tab\n",
      "        * Star gives the Same\n",
      "* Itemized\n",
      "        - Two Tables: -\n",
      "\n",
      "\n",
      "1. Enumerated List\n",
      "    * Star\n",
      "2. Second\n",
      "    1. Number\n",
      "    \n"
     ]
    },
    {
     "cell_type": "markdown",
     "metadata": {},
     "source": [
      "Here is a blockquote:\n",
      "\n",
      "> Beautiful is better than ugly.\n",
      "> Explicit is better than implicit.\n",
      "> Simple is better than complex.\n",
      "\n",
      "\n",
      "And shorthand for links:\n",
      "\n",
      "[IPython's website](http://ipython.org)"
     ]
    },
    {
     "cell_type": "markdown",
     "metadata": {},
     "source": [
      "You can embed code meant for illustration instead of execution in Python:\n",
      "\n",
      "    def f(x): (one tab)\n",
      "        \"\"\"a docstring\"\"\"\n",
      "    return x**2\n"
     ]
    },
    {
     "cell_type": "heading",
     "level": 4,
     "metadata": {},
     "source": [
      "HTML"
     ]
    },
    {
     "cell_type": "markdown",
     "metadata": {},
     "source": [
      "Wanna encourage all to adopt this standard: HTML and JavaScript in IPython Notebook: become part of the browser. \n",
      "\n",
      "\n",
      "<table>\n",
      "<tr>\n",
      "<th>Header 1</th>\n",
      "<th>Header 2</th>\n",
      "</tr>\n",
      "<tr>\n",
      "<td>row 1, cell 1</td>\n",
      "<td>row 1, cell 2</td>\n",
      "</tr>\n",
      "<tr>\n",
      "<td>row 2, cell 1</td>\n",
      "<td>row 2, cell 2</td>\n",
      "</tr>\n",
      "</table>"
     ]
    },
    {
     "cell_type": "markdown",
     "metadata": {},
     "source": [
      "The Notebook webapp support Github flavored markdown meaning that you can use triple backticks for code blocks \n",
      "<pre>\n",
      "```python\n",
      "print \"Hello World\"\n",
      "```\n",
      "\n",
      "```javascript\n",
      "console.log(\"Hello World\")\n",
      "```\n",
      "</pre>\n",
      "\n",
      "Gives \n",
      "```python\n",
      "print \"Hello World\"\n",
      "```\n",
      "\n",
      "```javascript\n",
      "console.log(\"Hello World\")\n",
      "```\n",
      "\n",
      "And a table like this : \n",
      "\n",
      "<pre>\n",
      "| This | is   |\n",
      "|------|------|\n",
      "|   a  | table| \n",
      "</pre>\n",
      "\n",
      "A nice Html Table\n",
      "\n",
      "| This | is   |\n",
      "|------|------|\n",
      "|   a  | table| "
     ]
    },
    {
     "cell_type": "heading",
     "level": 4,
     "metadata": {},
     "source": [
      "Local Files"
     ]
    },
    {
     "cell_type": "markdown",
     "metadata": {},
     "source": [
      "If you have local files in your Notebook directory, you can refer to these files in Markdown cells via relative URLs that are prefixed with `files/`:\n",
      "\n",
      "    files/[subdirectory/]<filename>\n",
      "\n",
      "Note that it is **not** `/files`.\n",
      "\n",
      "For example, in the `figs` subdirectory, we have the Python logo:\n",
      "\n",
      "<img src=\"files/figs/python-logo.svg\" />\n",
      "\n",
      "and a video with the HTML5 video tag:\n",
      "\n",
      "<video controls src=\"files/figs/animation.m4v\" />\n",
      "\n",
      "These do not embed the data into the notebook file, and require that the files exist when you are viewing the notebook."
     ]
    },
    {
     "cell_type": "code",
     "collapsed": false,
     "input": [],
     "language": "python",
     "metadata": {},
     "outputs": []
    }
   ],
   "metadata": {}
  }
 ]
}