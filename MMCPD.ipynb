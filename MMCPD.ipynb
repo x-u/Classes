{
 "metadata": {
  "name": ""
 },
 "nbformat": 3,
 "nbformat_minor": 0,
 "worksheets": [
  {
   "cells": [
    {
     "cell_type": "code",
     "collapsed": false,
     "input": [
      "import sympy\n",
      "from sympy import *\n",
      "init_printing()"
     ],
     "language": "python",
     "metadata": {},
     "outputs": [],
     "prompt_number": 21
    },
    {
     "cell_type": "heading",
     "level": 2,
     "metadata": {},
     "source": [
      "Model Setup"
     ]
    },
    {
     "cell_type": "markdown",
     "metadata": {},
     "source": []
    },
    {
     "cell_type": "code",
     "collapsed": false,
     "input": [
      "a = symbols('a')\n",
      "QH, QL, Qbar = symbols('Q_H Q_L Q_bar')\n",
      "kH, kL = symbols('k_H k_L')\n",
      "c, c1, c2 = symbols('c c_1 c_2')"
     ],
     "language": "python",
     "metadata": {},
     "outputs": [],
     "prompt_number": 22
    },
    {
     "cell_type": "markdown",
     "metadata": {},
     "source": [
      "Two airlines 1 and 2 serve in one market with two types of consumers: $H$ type and $L$ type. $H$ type consumers have high reservation price and is less sensitive to price change, while $L$ type consumers have low reservation price and is more sensitive to price change, i.e. expressed in the inverse demand function as $a>1$ and $k_H>k_L$. \n",
      "\n",
      "Both airlines choose how many seats to offer to the $H$ type and $L$ type customers $q_H^i$ and $q_L^i$ for $i=1,2$, and the prices $p_H$ and $p_L$ is determined by the demand function. Each airline's capacity is constrained at $q_H+q_L\\leq Q_{bar}$, so the total capacity for the market is $2*Q_{bar}$. Here we denote the total tickets for each type of customers as $Q_H=q_H^1+q_H^2$ and $Q_L=q_L^1+q_L^2$."
     ]
    },
    {
     "cell_type": "code",
     "collapsed": false,
     "input": [
      "# Demand Function\n",
      "def get_pH(QH):\n",
      "    return a - kH*QH\n",
      "def get_pL(QL):\n",
      "    return 1 - kL*QL"
     ],
     "language": "python",
     "metadata": {},
     "outputs": [],
     "prompt_number": 23
    },
    {
     "cell_type": "code",
     "collapsed": false,
     "input": [
      "def get_eq(qH1, qH2, qL1, qL2):\n",
      "\tQH = qH1 + qH2 # Total Tickets for H Type\n",
      "\tQL = qL1 + qL2 # Total Tickets for L Type\n",
      "\tQ = factor(QH + QL) # Total Tickets\n",
      "\tpH = factor(expand(get_pH(QH))) # Equilibrium Price for H Type\n",
      "\tpL = factor(expand(get_pL(QL))) # Equilibrium Price for L Type\n",
      "\tp_avg = factor((QH*pH + QL*pL) / Q)\n",
      "\tp_sd = factor(sqrt((QH*(pH - p_avg)**2 + QL*(pL - p_avg)**2) / Q))\n",
      "\tprofit1 = factor(pH*qH1 + pL*qL1) # Profit for 1 airline\n",
      "\tprofit2 = factor(pH*qH2 + pL*qL2)\n",
      "\tresult = [qH1, qH2, QH, qL1, qL2, QL, Q, 2*Qbar, # 0 - 7\n",
      "              pH, pL, p_avg, p_sd, #8 - 11\n",
      "              profit1, profit2, profit1+profit2] # 12 - 14\n",
      "\treturn result"
     ],
     "language": "python",
     "metadata": {},
     "outputs": [],
     "prompt_number": 24
    },
    {
     "cell_type": "heading",
     "level": 3,
     "metadata": {},
     "source": [
      "Equilibrium for Monopoly/Collusion with Binding Capacity Constrain"
     ]
    },
    {
     "cell_type": "code",
     "collapsed": false,
     "input": [
      "Profit_Total = get_pH(QH)*QH + get_pL(QL)*QL\n",
      "FOC = diff(Profit_Total.subs(QL, 2*Qbar - QH), QH)\n",
      "eq_qH = factor(solve(FOC, QH)[0]) / 2\n",
      "eq_qL = factor(2*Qbar - expand(2*eq_qH)) / 2\n",
      "result_M_bind = get_eq(eq_qH, eq_qH, eq_qL, eq_qL)"
     ],
     "language": "python",
     "metadata": {},
     "outputs": [],
     "prompt_number": 25
    },
    {
     "cell_type": "heading",
     "level": 3,
     "metadata": {},
     "source": [
      "Equilibrium for Monopoly/Collusion with Non-Binding Capacity Constrain"
     ]
    },
    {
     "cell_type": "code",
     "collapsed": false,
     "input": [
      "Profit_Total = get_pH(QH)*QH + get_pL(QL)*QL\n",
      "eq_qH = solve(diff(Profit_Total, QH), QH)[0] / 2\n",
      "eq_qL = solve(diff(Profit_Total, QL), QL)[0] / 2\n",
      "result_M_nonbind = get_eq(eq_qH, eq_qH, eq_qL, eq_qL)"
     ],
     "language": "python",
     "metadata": {},
     "outputs": [],
     "prompt_number": 26
    },
    {
     "cell_type": "heading",
     "level": 3,
     "metadata": {},
     "source": [
      "Equilibrium for Cournot/Competition Model with Binding Capacity Constrain"
     ]
    },
    {
     "cell_type": "code",
     "collapsed": false,
     "input": [
      "q_H1, q_H2, QH, q_L1, q_L2, QL, Qbar = symbols('q_1^H q_2^H Q_H q_1^L q_2^L Q_L Q_bar')\n",
      "Profit_1 = get_pH(QH)*q_H1 + get_pL(QL)*q_L1\n",
      "FOC = diff(Profit_1.subs(QL, 2*Qbar - QH).subs(QH, q_H1+q_H2).subs(q_L1, Qbar-q_H1), q_H1)\n",
      "FOC_qH = factor(solve(FOC, q_H1))[0]\n",
      "eq_qH = factor(solve((FOC_qH - q_H1).subs(q_H2, q_H1), q_H1))[0]\n",
      "eq_qL = factor(Qbar - eq_qH)\n",
      "result_C_bind = get_eq(eq_qH, eq_qH, eq_qL, eq_qL)"
     ],
     "language": "python",
     "metadata": {},
     "outputs": [],
     "prompt_number": 27
    },
    {
     "cell_type": "heading",
     "level": 3,
     "metadata": {},
     "source": [
      "Equilibrium for Cournot/Competition Model with Non-Binding Capacity Constrain"
     ]
    },
    {
     "cell_type": "code",
     "collapsed": false,
     "input": [
      "q_H1, q_H2, QH, q_L1, q_L2, QL, Qbar = symbols('q_1^H q_2^H Q_H q_1^L q_2^L Q_L Q_bar')\n",
      "Profit_1 = get_pH(QH)*q_H1 + get_pL(QL)*q_L1\n",
      "Profit_1 = Profit_1.subs(QH, q_H1+q_H2).subs(QL, q_L1+q_L2)\n",
      "eq_qH = solve(solve(diff(Profit_1, q_H1), q_H1)[0] - q_H2, q_H2)[0]\n",
      "eq_qL = solve(solve(diff(Profit_1, q_L1), q_L1)[0] - q_L2, q_L2)[0]\n",
      "result_C_nonbind = get_eq(eq_qH, eq_qH, eq_qL, eq_qL)"
     ],
     "language": "python",
     "metadata": {},
     "outputs": [],
     "prompt_number": 28
    },
    {
     "cell_type": "heading",
     "level": 3,
     "metadata": {},
     "source": [
      "One Airline Deviates from Collusion with Non-Binding Cap Constrain"
     ]
    },
    {
     "cell_type": "code",
     "collapsed": false,
     "input": [
      "q_H1, q_H2, QH, q_L1, q_L2, QL, Qbar = symbols('q_1^H q_2^H Q_H q_1^L q_2^L Q_L Q_bar')\n",
      "Profit_1 = get_pH(QH)*q_H1 + get_pL(QL)*q_L1\n",
      "eq_qH2 = result_M_nonbind[0] # Airline 2 produces Collusion quantity\n",
      "eq_qL2 = result_M_nonbind[3]\n",
      "Profit_1 = Profit_1.subs(QH, q_H1+q_H2).subs(QL, q_L1+q_L2).subs(q_H2,eq_qH2).subs(q_L2,eq_qL2)\n",
      "eq_qH1 = solve(diff(Profit_1, q_H1), q_H1)[0]\n",
      "eq_qL1 = solve(diff(Profit_1, q_L1), q_L1)[0]\n",
      "result_Dev_nonbind = get_eq(eq_qH1, eq_qH2, eq_qL1, eq_qL2)"
     ],
     "language": "python",
     "metadata": {},
     "outputs": [],
     "prompt_number": 29
    },
    {
     "cell_type": "markdown",
     "metadata": {},
     "source": [
      "By deviating away from collusion, airline 1 will gain: "
     ]
    },
    {
     "cell_type": "code",
     "collapsed": false,
     "input": [
      "gain = result_Dev_nonbind[12] - result_M_nonbind[12]"
     ],
     "language": "python",
     "metadata": {},
     "outputs": [],
     "prompt_number": 30
    },
    {
     "cell_type": "markdown",
     "metadata": {},
     "source": [
      "However, in the future rounds airline 2 always compete, and airline 1 loses the following amount in each period: "
     ]
    },
    {
     "cell_type": "code",
     "collapsed": false,
     "input": [
      "loss = result_M_nonbind[12] - result_C_nonbind[12]"
     ],
     "language": "python",
     "metadata": {},
     "outputs": [],
     "prompt_number": 31
    },
    {
     "cell_type": "markdown",
     "metadata": {},
     "source": [
      "So no airline would deviate from collusion state if the gain is less than the present value of the losses, i.e. $Gain<Loss (\\delta+\\delta^2+\\delta^3+...) $, which holds true if and only if $\\delta$ is greater than the following value:"
     ]
    },
    {
     "cell_type": "code",
     "collapsed": false,
     "input": [
      "from sympy.abc import delta\n",
      "L_G = delta*loss/(1-delta) - gain\n",
      "delta_bar = solve(L_G, delta)[0]\n",
      "delta_bar"
     ],
     "language": "python",
     "metadata": {},
     "outputs": [
      {
       "latex": [
        "$$\\frac{9}{17}$$"
       ],
       "metadata": {},
       "output_type": "pyout",
       "png": "[encoded data removed]",
       "prompt_number": 32,
       "text": [
        "9/17"
       ]
      }
     ],
     "prompt_number": 32
    },
    {
     "cell_type": "code",
     "collapsed": false,
     "input": [
      "eq = [result_M_bind, result_M_nonbind, result_C_bind, result_C_nonbind, result_Dev_nonbind]"
     ],
     "language": "python",
     "metadata": {},
     "outputs": [],
     "prompt_number": 33
    },
    {
     "cell_type": "code",
     "collapsed": false,
     "input": [
      "from pandas import DataFrame\n",
      "import pandas\n",
      "paradigm = ['Monopoly/Collusion (Cap Constrain Binding)',\n",
      "            'Monopoly/Collusion (Cap Constrain Not Binding)',\n",
      "            'Cournot Competition (Cap Constrain Binding)',\n",
      "            'Cournot Competition (Cap Constrain Not Binding)',\n",
      "            'One Firm Deviate']\n",
      "variables = ['Seats H-1', 'Seats H-2', 'Seats H-Total', \n",
      "             'Seats L-1', 'Seats L-2', 'Seats L-Total', \n",
      "             'Total Seats Sold', 'Capacity',\n",
      "             'H Price', 'L Price', 'Avg Price', 'Price SD',\n",
      "             'Profit 1', 'Profit 2', 'Industry Profit']\n",
      "df = DataFrame(eq, index=paradigm, columns=variables)\n",
      "# df"
     ],
     "language": "python",
     "metadata": {},
     "outputs": [],
     "prompt_number": 34
    },
    {
     "cell_type": "code",
     "collapsed": false,
     "input": [
      "#print df.to_latex() # Same Table as above\n",
      "#print(latex(eq)) # better, but still need to organize manually into a table"
     ],
     "language": "python",
     "metadata": {},
     "outputs": [],
     "prompt_number": 35
    },
    {
     "cell_type": "heading",
     "level": 3,
     "metadata": {},
     "source": [
      "Numerical Calculation"
     ]
    },
    {
     "cell_type": "code",
     "collapsed": false,
     "input": [
      "# Initial Values\n",
      "a_val = 1.5\n",
      "Qbar_val = 0.4\n",
      "kH_val = 2.5\n",
      "kL_val = 0.8\n",
      "parameter_val={a:a_val, Qbar:Qbar_val, kH:kH_val, kL:kL_val}\n",
      "# Numerically Evaluate Equations\n",
      "numrows = len(eq)\n",
      "numcols = len(eq[0])\n",
      "eq_value = [[float(eq[y][x].evalf(subs=parameter_val)) for x in range(0,numcols)] for y in range(0,numrows)]\n",
      "# Put all Data into DataFrame\n",
      "pandas.set_option('display.precision',4)\n",
      "df_value = DataFrame(eq_value, index=paradigm, columns=variables)\n",
      "df_value"
     ],
     "language": "python",
     "metadata": {},
     "outputs": [
      {
       "html": [
        "<div style=\"max-height:1000px;max-width:1500px;overflow:auto;\">\n",
        "<table border=\"1\" class=\"dataframe\">\n",
        "  <thead>\n",
        "    <tr style=\"text-align: right;\">\n",
        "      <th></th>\n",
        "      <th>Seats H-1</th>\n",
        "      <th>Seats H-2</th>\n",
        "      <th>Seats H-Total</th>\n",
        "      <th>Seats L-1</th>\n",
        "      <th>Seats L-2</th>\n",
        "      <th>Seats L-Total</th>\n",
        "      <th>Total Seats Sold</th>\n",
        "      <th>Capacity</th>\n",
        "      <th>H Price</th>\n",
        "      <th>L Price</th>\n",
        "      <th>Avg Price</th>\n",
        "      <th>Price SD</th>\n",
        "      <th>Profit 1</th>\n",
        "      <th>Profit 2</th>\n",
        "      <th>Industry Profit</th>\n",
        "    </tr>\n",
        "  </thead>\n",
        "  <tbody>\n",
        "    <tr>\n",
        "      <th>Monopoly/Collusion (Cap Constrain Binding)</th>\n",
        "      <td> 0.135</td>\n",
        "      <td> 0.135</td>\n",
        "      <td> 0.270</td>\n",
        "      <td> 0.265</td>\n",
        "      <td> 0.265</td>\n",
        "      <td> 0.530</td>\n",
        "      <td> 0.800</td>\n",
        "      <td> 0.8</td>\n",
        "      <td> 0.826</td>\n",
        "      <td> 0.576</td>\n",
        "      <td> 0.660</td>\n",
        "      <td> 0.118</td>\n",
        "      <td> 0.264</td>\n",
        "      <td> 0.264</td>\n",
        "      <td> 0.528</td>\n",
        "    </tr>\n",
        "    <tr>\n",
        "      <th>Monopoly/Collusion (Cap Constrain Not Binding)</th>\n",
        "      <td> 0.150</td>\n",
        "      <td> 0.150</td>\n",
        "      <td> 0.300</td>\n",
        "      <td> 0.312</td>\n",
        "      <td> 0.312</td>\n",
        "      <td> 0.625</td>\n",
        "      <td> 0.925</td>\n",
        "      <td> 0.8</td>\n",
        "      <td> 0.750</td>\n",
        "      <td> 0.500</td>\n",
        "      <td> 0.581</td>\n",
        "      <td> 0.117</td>\n",
        "      <td> 0.269</td>\n",
        "      <td> 0.269</td>\n",
        "      <td> 0.537</td>\n",
        "    </tr>\n",
        "    <tr>\n",
        "      <th>Cournot Competition (Cap Constrain Binding)</th>\n",
        "      <td> 0.147</td>\n",
        "      <td> 0.147</td>\n",
        "      <td> 0.295</td>\n",
        "      <td> 0.253</td>\n",
        "      <td> 0.253</td>\n",
        "      <td> 0.505</td>\n",
        "      <td> 0.800</td>\n",
        "      <td> 0.8</td>\n",
        "      <td> 0.763</td>\n",
        "      <td> 0.596</td>\n",
        "      <td> 0.657</td>\n",
        "      <td> 0.080</td>\n",
        "      <td> 0.263</td>\n",
        "      <td> 0.263</td>\n",
        "      <td> 0.526</td>\n",
        "    </tr>\n",
        "    <tr>\n",
        "      <th>Cournot Competition (Cap Constrain Not Binding)</th>\n",
        "      <td> 0.200</td>\n",
        "      <td> 0.200</td>\n",
        "      <td> 0.400</td>\n",
        "      <td> 0.417</td>\n",
        "      <td> 0.417</td>\n",
        "      <td> 0.833</td>\n",
        "      <td> 1.233</td>\n",
        "      <td> 0.8</td>\n",
        "      <td> 0.500</td>\n",
        "      <td> 0.333</td>\n",
        "      <td> 0.387</td>\n",
        "      <td> 0.078</td>\n",
        "      <td> 0.239</td>\n",
        "      <td> 0.239</td>\n",
        "      <td> 0.478</td>\n",
        "    </tr>\n",
        "    <tr>\n",
        "      <th>One Firm Deviate</th>\n",
        "      <td> 0.225</td>\n",
        "      <td> 0.150</td>\n",
        "      <td> 0.375</td>\n",
        "      <td> 0.469</td>\n",
        "      <td> 0.312</td>\n",
        "      <td> 0.781</td>\n",
        "      <td> 1.156</td>\n",
        "      <td> 0.8</td>\n",
        "      <td> 0.562</td>\n",
        "      <td> 0.375</td>\n",
        "      <td> 0.436</td>\n",
        "      <td> 0.088</td>\n",
        "      <td> 0.302</td>\n",
        "      <td> 0.202</td>\n",
        "      <td> 0.504</td>\n",
        "    </tr>\n",
        "  </tbody>\n",
        "</table>\n",
        "</div>"
       ],
       "metadata": {},
       "output_type": "pyout",
       "prompt_number": 36,
       "text": [
        "                                                 Seats H-1  Seats H-2  \\\n",
        "Monopoly/Collusion (Cap Constrain Binding)           0.135      0.135   \n",
        "Monopoly/Collusion (Cap Constrain Not Binding)       0.150      0.150   \n",
        "Cournot Competition (Cap Constrain Binding)          0.147      0.147   \n",
        "Cournot Competition (Cap Constrain Not Binding)      0.200      0.200   \n",
        "One Firm Deviate                                     0.225      0.150   \n",
        "\n",
        "                                                 Seats H-Total  Seats L-1  \\\n",
        "Monopoly/Collusion (Cap Constrain Binding)               0.270      0.265   \n",
        "Monopoly/Collusion (Cap Constrain Not Binding)           0.300      0.312   \n",
        "Cournot Competition (Cap Constrain Binding)              0.295      0.253   \n",
        "Cournot Competition (Cap Constrain Not Binding)          0.400      0.417   \n",
        "One Firm Deviate                                         0.375      0.469   \n",
        "\n",
        "                                                 Seats L-2  Seats L-Total  \\\n",
        "Monopoly/Collusion (Cap Constrain Binding)           0.265          0.530   \n",
        "Monopoly/Collusion (Cap Constrain Not Binding)       0.312          0.625   \n",
        "Cournot Competition (Cap Constrain Binding)          0.253          0.505   \n",
        "Cournot Competition (Cap Constrain Not Binding)      0.417          0.833   \n",
        "One Firm Deviate                                     0.312          0.781   \n",
        "\n",
        "                                                 Total Seats Sold  Capacity  \\\n",
        "Monopoly/Collusion (Cap Constrain Binding)                  0.800       0.8   \n",
        "Monopoly/Collusion (Cap Constrain Not Binding)              0.925       0.8   \n",
        "Cournot Competition (Cap Constrain Binding)                 0.800       0.8   \n",
        "Cournot Competition (Cap Constrain Not Binding)             1.233       0.8   \n",
        "One Firm Deviate                                            1.156       0.8   \n",
        "\n",
        "                                                 H Price  L Price  Avg Price  \\\n",
        "Monopoly/Collusion (Cap Constrain Binding)         0.826    0.576      0.660   \n",
        "Monopoly/Collusion (Cap Constrain Not Binding)     0.750    0.500      0.581   \n",
        "Cournot Competition (Cap Constrain Binding)        0.763    0.596      0.657   \n",
        "Cournot Competition (Cap Constrain Not Binding)    0.500    0.333      0.387   \n",
        "One Firm Deviate                                   0.562    0.375      0.436   \n",
        "\n",
        "                                                 Price SD  Profit 1  Profit 2  \\\n",
        "Monopoly/Collusion (Cap Constrain Binding)          0.118     0.264     0.264   \n",
        "Monopoly/Collusion (Cap Constrain Not Binding)      0.117     0.269     0.269   \n",
        "Cournot Competition (Cap Constrain Binding)         0.080     0.263     0.263   \n",
        "Cournot Competition (Cap Constrain Not Binding)     0.078     0.239     0.239   \n",
        "One Firm Deviate                                    0.088     0.302     0.202   \n",
        "\n",
        "                                                 Industry Profit  \n",
        "Monopoly/Collusion (Cap Constrain Binding)                 0.528  \n",
        "Monopoly/Collusion (Cap Constrain Not Binding)             0.537  \n",
        "Cournot Competition (Cap Constrain Binding)                0.526  \n",
        "Cournot Competition (Cap Constrain Not Binding)            0.478  \n",
        "One Firm Deviate                                           0.504  "
       ]
      }
     ],
     "prompt_number": 36
    },
    {
     "cell_type": "code",
     "collapsed": false,
     "input": [
      "df_value.sum().sum() # Just a temporary test"
     ],
     "language": "python",
     "metadata": {},
     "outputs": [
      {
       "latex": [
        "$$32.8741028367$$"
       ],
       "metadata": {},
       "output_type": "pyout",
       "png": "[encoded data removed]",
       "prompt_number": 38,
       "text": [
        "32.8741028367"
       ]
      }
     ],
     "prompt_number": 38
    },
    {
     "cell_type": "code",
     "collapsed": false,
     "input": [
      "# Draw Demand and MR Curves\n",
      "import numpy as np\n",
      "import matplotlib.pyplot as plt\n",
      "import matplotlib.text as text\n",
      "\n",
      "x = np.arange(0,3,.02)\n",
      "pH_line = a_val - kH_val * x\n",
      "pL_line = 1 - kL_val * x\n",
      "MRH_line = a_val - 2*kH_val * x\n",
      "MRL_line = 1 - 2*kL_val * x\n",
      "\n",
      "fig, ax = plt.subplots()\n",
      "plt.plot(x,pH_line,x,pL_line,x,MRH_line,'k--',x,MRL_line,'k:')\n",
      "plt.legend((r\"$D_H$\", r\"$D_L$\", r\"$MR_H$\", r\"$MR_L$\"),\n",
      "           'upper center', shadow=True)\n",
      "plt.ylim([0,a_val*1.1])\n",
      "plt.xlim([0,1/kL_val])\n",
      "plt.grid(False)\n",
      "plt.xlabel('Quantity')\n",
      "plt.ylabel('Price')\n",
      "# plt.title('Minimum Message Length')"
     ],
     "language": "python",
     "metadata": {},
     "outputs": [
      {
       "metadata": {},
       "output_type": "pyout",
       "prompt_number": 37,
       "text": [
        "<matplotlib.text.Text at 0x10a4192d0>"
       ]
      },
      {
       "metadata": {},
       "output_type": "display_data",
       "png": "[encoded data removed]",
       "text": [
        "<matplotlib.figure.Figure at 0x10a10b750>"
       ]
      }
     ],
     "prompt_number": 37
    },
    {
     "cell_type": "code",
     "collapsed": false,
     "input": [],
     "language": "python",
     "metadata": {},
     "outputs": [],
     "prompt_number": 37
    },
    {
     "cell_type": "code",
     "collapsed": false,
     "input": [],
     "language": "python",
     "metadata": {},
     "outputs": [],
     "prompt_number": 37
    },
    {
     "cell_type": "code",
     "collapsed": false,
     "input": [],
     "language": "python",
     "metadata": {},
     "outputs": [],
     "prompt_number": 37
    },
    {
     "cell_type": "code",
     "collapsed": false,
     "input": [],
     "language": "python",
     "metadata": {},
     "outputs": [],
     "prompt_number": 37
    },
    {
     "cell_type": "code",
     "collapsed": false,
     "input": [],
     "language": "python",
     "metadata": {},
     "outputs": [],
     "prompt_number": 37
    },
    {
     "cell_type": "code",
     "collapsed": false,
     "input": [],
     "language": "python",
     "metadata": {},
     "outputs": [],
     "prompt_number": 37
    }
   ],
   "metadata": {}
  }
 ]
}