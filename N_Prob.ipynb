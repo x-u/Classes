{
 "metadata": {
  "name": ""
 },
 "nbformat": 3,
 "nbformat_minor": 0,
 "worksheets": [
  {
   "cells": [
    {
     "cell_type": "code",
     "collapsed": false,
     "input": [
      "import sympy\n",
      "from sympy import *\n",
      "from sympy.stats import *\n",
      "init_printing()\n",
      "a, b, c, x, y, z = symbols('a b c x y z')"
     ],
     "language": "python",
     "metadata": {},
     "outputs": [],
     "prompt_number": 6
    },
    {
     "cell_type": "code",
     "collapsed": false,
     "input": [
      "X = Normal('X',0,1)"
     ],
     "language": "python",
     "metadata": {},
     "outputs": [],
     "prompt_number": 7
    },
    {
     "cell_type": "code",
     "collapsed": false,
     "input": [
      "P(X > 5)"
     ],
     "language": "python",
     "metadata": {},
     "outputs": [
      {
       "latex": [
        "$$\\frac{5 \\sqrt{2}}{4 \\sqrt{\\pi}} \\left(- \\frac{\\sqrt{2} \\sqrt{\\pi}}{5} \\operatorname{erf}{\\left (\\frac{5 \\sqrt{2}}{2} \\right )} + \\frac{\\sqrt{2} \\sqrt{\\pi}}{5}\\right)$$"
       ],
       "metadata": {},
       "output_type": "pyout",
       "png": "[encoded data removed]",
       "prompt_number": 8,
       "text": [
        "        \u239b                 \u239b    ___\u239e              \u239e\n",
        "        \u239c    ___   ___    \u239c5\u22c5\u2572\u2571 2 \u239f              \u239f\n",
        "        \u239c  \u2572\u2571 2 \u22c5\u2572\u2571 \u03c0 \u22c5erf\u239c\u2500\u2500\u2500\u2500\u2500\u2500\u2500\u239f     ___   ___\u239f\n",
        "    ___ \u239c                 \u239d   2   \u23a0   \u2572\u2571 2 \u22c5\u2572\u2571 \u03c0 \u239f\n",
        "5\u22c5\u2572\u2571 2 \u22c5\u239c- \u2500\u2500\u2500\u2500\u2500\u2500\u2500\u2500\u2500\u2500\u2500\u2500\u2500\u2500\u2500\u2500\u2500\u2500\u2500\u2500\u2500\u2500\u2500\u2500 + \u2500\u2500\u2500\u2500\u2500\u2500\u2500\u2500\u2500\u2500\u2500\u239f\n",
        "        \u239d             5                    5     \u23a0\n",
        "\u2500\u2500\u2500\u2500\u2500\u2500\u2500\u2500\u2500\u2500\u2500\u2500\u2500\u2500\u2500\u2500\u2500\u2500\u2500\u2500\u2500\u2500\u2500\u2500\u2500\u2500\u2500\u2500\u2500\u2500\u2500\u2500\u2500\u2500\u2500\u2500\u2500\u2500\u2500\u2500\u2500\u2500\u2500\u2500\u2500\u2500\u2500\u2500\u2500\u2500\n",
        "                         ___                      \n",
        "                     4\u22c5\u2572\u2571 \u03c0                       "
       ]
      }
     ],
     "prompt_number": 8
    },
    {
     "cell_type": "code",
     "collapsed": false,
     "input": [
      "simplify(P(X > 5))"
     ],
     "language": "python",
     "metadata": {},
     "outputs": [
      {
       "latex": [
        "$$- \\frac{1}{2} \\operatorname{erf}{\\left (\\frac{5 \\sqrt{2}}{2} \\right )} + \\frac{1}{2}$$"
       ],
       "metadata": {},
       "output_type": "pyout",
       "png": "[encoded data removed]",
       "prompt_number": 9,
       "text": [
        "     \u239b    ___\u239e    \n",
        "     \u239c5\u22c5\u2572\u2571 2 \u239f    \n",
        "  erf\u239c\u2500\u2500\u2500\u2500\u2500\u2500\u2500\u239f    \n",
        "     \u239d   2   \u23a0   1\n",
        "- \u2500\u2500\u2500\u2500\u2500\u2500\u2500\u2500\u2500\u2500\u2500\u2500 + \u2500\n",
        "       2         2"
       ]
      }
     ],
     "prompt_number": 9
    },
    {
     "cell_type": "code",
     "collapsed": false,
     "input": [
      "P(X > 5, evaluate=False)"
     ],
     "language": "python",
     "metadata": {},
     "outputs": [
      {
       "latex": [
        "$$\\int_{5}^{\\infty} \\frac{\\sqrt{2} e^{- \\frac{z^{2}}{2}}}{2 \\sqrt{\\pi}}\\, dz$$"
       ],
       "metadata": {},
       "output_type": "pyout",
       "png": "[encoded data removed]",
       "prompt_number": 10,
       "text": [
        "\u221e               \n",
        "\u2320               \n",
        "\u23ae          2    \n",
        "\u23ae        -z     \n",
        "\u23ae        \u2500\u2500\u2500\u2500   \n",
        "\u23ae   ___   2     \n",
        "\u23ae \u2572\u2571 2 \u22c5\u212f       \n",
        "\u23ae \u2500\u2500\u2500\u2500\u2500\u2500\u2500\u2500\u2500\u2500\u2500 dz\n",
        "\u23ae       ___     \n",
        "\u23ae   2\u22c5\u2572\u2571 \u03c0      \n",
        "\u2321               \n",
        "5               "
       ]
      }
     ],
     "prompt_number": 10
    },
    {
     "cell_type": "code",
     "collapsed": false,
     "input": [
      "X = Die('X', 6)\n",
      "Y = Die('Y', 6)\n",
      "Z = X + Y\n",
      "P(Z > 9, X < 5)"
     ],
     "language": "python",
     "metadata": {},
     "outputs": [
      {
       "latex": [
        "$$\\frac{1}{24}$$"
       ],
       "metadata": {},
       "output_type": "pyout",
       "png": "[encoded data removed]",
       "prompt_number": 11,
       "text": [
        "1/24"
       ]
      }
     ],
     "prompt_number": 11
    },
    {
     "cell_type": "code",
     "collapsed": false,
     "input": [
      "variance(Z)"
     ],
     "language": "python",
     "metadata": {},
     "outputs": [
      {
       "latex": [
        "$$\\frac{35}{6}$$"
       ],
       "metadata": {},
       "output_type": "pyout",
       "png": "[encoded data removed]",
       "prompt_number": 12,
       "text": [
        "35/6"
       ]
      }
     ],
     "prompt_number": 12
    },
    {
     "cell_type": "code",
     "collapsed": false,
     "input": [
      "# COndiitonal DIstn\n",
      "X = Normal('X',0,1)\n",
      "Z = given(X, X > 0)\n",
      "density(Z)(-3)"
     ],
     "language": "python",
     "metadata": {},
     "outputs": [
      {
       "latex": [
        "$$\\frac{\\sqrt{2}}{\\sqrt{\\pi} e^{\\frac{9}{2}}}$$"
       ],
       "metadata": {},
       "output_type": "pyout",
       "png": "[encoded data removed]",
       "prompt_number": 18,
       "text": [
        "  ___  -9/2\n",
        "\u2572\u2571 2 \u22c5\u212f    \n",
        "\u2500\u2500\u2500\u2500\u2500\u2500\u2500\u2500\u2500\u2500\u2500\n",
        "     ___   \n",
        "   \u2572\u2571 \u03c0    "
       ]
      }
     ],
     "prompt_number": 18
    },
    {
     "cell_type": "code",
     "collapsed": false,
     "input": [
      "lamda = symbols('lamda')\n",
      "lamda"
     ],
     "language": "python",
     "metadata": {},
     "outputs": [
      {
       "latex": [
        "$$\\lambda$$"
       ],
       "metadata": {},
       "output_type": "pyout",
       "png": "[encoded data removed]",
       "prompt_number": 20,
       "text": [
        "\u03bb"
       ]
      }
     ],
     "prompt_number": 20
    },
    {
     "cell_type": "code",
     "collapsed": false,
     "input": [],
     "language": "python",
     "metadata": {},
     "outputs": []
    }
   ],
   "metadata": {}
  }
 ]
}