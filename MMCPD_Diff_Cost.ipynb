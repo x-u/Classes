{
 "metadata": {
  "name": ""
 },
 "nbformat": 3,
 "nbformat_minor": 0,
 "worksheets": [
  {
   "cells": [
    {
     "cell_type": "code",
     "collapsed": false,
     "input": [
      "import sympy\n",
      "from sympy import *\n",
      "init_printing()"
     ],
     "language": "python",
     "metadata": {},
     "outputs": [],
     "prompt_number": 17
    },
    {
     "cell_type": "heading",
     "level": 2,
     "metadata": {},
     "source": [
      "Model Setup"
     ]
    },
    {
     "cell_type": "code",
     "collapsed": false,
     "input": [
      "a = symbols('a')\n",
      "QH, QL, Qbar = symbols('Q_H Q_L Q_bar')\n",
      "kH, kL = symbols('k_H k_L')\n",
      "c, cH, cL = symbols('c c_H c_L')\n",
      "from sympy.abc import alpha, delta"
     ],
     "language": "python",
     "metadata": {},
     "outputs": [],
     "prompt_number": 18
    },
    {
     "cell_type": "code",
     "collapsed": false,
     "input": [
      "# Demand Function\n",
      "def get_pH(QH):\n",
      "    return a - kH*QH\n",
      "def get_pL(QL):\n",
      "    return 1 - kL*QL\n",
      "# Demand Function for Different Costs\n",
      "def get_pH_HC(QH):\n",
      "    return a - kH*QH - cH\n",
      "def get_pH_LC(QH):\n",
      "    return a - kH*QH - cL\n",
      "def get_pL_HC(QL):\n",
      "    return 1 - kL*QL - cH\n",
      "def get_pL_LC(QL):\n",
      "    return 1 - kL*QL - cL"
     ],
     "language": "python",
     "metadata": {},
     "outputs": [],
     "prompt_number": 19
    },
    {
     "cell_type": "code",
     "collapsed": false,
     "input": [
      "def get_eq(qH1, qH2, qL1, qL2):\n",
      "\tQH = qH1 + qH2 # Total Tickets for H Type\n",
      "\tQL = qL1 + qL2 # Total Tickets for L Type\n",
      "\tQ = factor(QH + QL) # Total Tickets\n",
      "\tpH = factor(expand(get_pH(QH))) # Equilibrium Price for H Type\n",
      "\tpL = factor(expand(get_pL(QL))) # Equilibrium Price for L Type\n",
      "\tp_avg = factor((QH*pH + QL*pL) / Q)\n",
      "\tp_sd = factor(sqrt((QH*(pH - p_avg)**2 + QL*(pL - p_avg)**2) / Q))\n",
      "\tprofit1 = factor(pH*qH1 + pL*qL1) # Profit for 1 airline\n",
      "\tprofit2 = factor(pH*qH2 + pL*qL2)\n",
      "\tresult = [qH1, qH2, QH, qL1, qL2, QL, Q, 2*Qbar, # 0 - 7\n",
      "              pH, pL, p_avg, p_sd, #8 - 11\n",
      "              profit1, profit2, profit1+profit2] # 12 - 14\n",
      "\treturn result\n",
      "def get_eq_diffcost(qH1, qH2, qL1, qL2):\n",
      "\tQH = qH1 + qH2 # Total Tickets for H Type\n",
      "\tQL = qL1 + qL2 # Total Tickets for L Type\n",
      "\tQ = factor(QH + QL) # Total Tickets\n",
      "\tpH = factor(expand(get_pH(QH))) # Equilibrium Price for H Type\n",
      "\tpL = factor(expand(get_pL(QL))) # Equilibrium Price for L Type\n",
      "\tp_avg = factor((QH*pH + QL*pL) / Q)\n",
      "\tp_sd = factor(sqrt((QH*(pH - p_avg)**2 + QL*(pL - p_avg)**2) / Q))\n",
      "\tprofit1 = factor((pH-cL)*qH1 + (pL-cL)*qL1) # Profit for 1 airline\n",
      "\tprofit2 = factor((pH-cH)*qH2 + (pL-cH)*qL2)\n",
      "\tresult = [qH1, qH2, QH, qL1, qL2, QL, Q, 2*Qbar, # 0 - 7\n",
      "              pH, pL, p_avg, p_sd, #8 - 11\n",
      "              profit1, profit2, profit1+profit2] # 12 - 14\n",
      "\treturn result"
     ],
     "language": "python",
     "metadata": {},
     "outputs": [],
     "prompt_number": 20
    },
    {
     "cell_type": "heading",
     "level": 3,
     "metadata": {},
     "source": [
      "DiffCost: Monopoly/Collusion (Non-Binding)"
     ]
    },
    {
     "cell_type": "code",
     "collapsed": false,
     "input": [
      "Profit_Total = get_pH(QH)*QH + get_pL(QL)*QL\n",
      "eq_QH = solve(diff(Profit_Total, QH), QH)[0] # Optimal Total Output for H Type\n",
      "eq_QL = solve(diff(Profit_Total, QL), QL)[0] # for L Type; Ass: eq_QH + eq_LH > Q_bar\n",
      "eq_qH1 = eq_QH # Let efficient firm have full occupation rates\n",
      "eq_qL1 = Qbar - eq_QH\n",
      "eq_qH2 = eq_QH - eq_qH1\n",
      "eq_qL2 = eq_QL - eq_qL1\n",
      "result_M_nonbind = get_eq_diffcost(eq_qH1, eq_qH2, eq_qL1, eq_qL2)\n",
      "result_M_nonbind[-3] = factor(alpha*result_M_nonbind[-1])\n",
      "result_M_nonbind[-2] = factor((1-alpha)*result_M_nonbind[-1])"
     ],
     "language": "python",
     "metadata": {},
     "outputs": [],
     "prompt_number": 25
    },
    {
     "cell_type": "heading",
     "level": 3,
     "metadata": {},
     "source": [
      "Bertrand Competition"
     ]
    },
    {
     "cell_type": "code",
     "collapsed": false,
     "input": [
      "# Low cost firms"
     ],
     "language": "python",
     "metadata": {},
     "outputs": []
    },
    {
     "cell_type": "heading",
     "level": 3,
     "metadata": {},
     "source": [
      "DiffCost: Cournot/Competition (Non-Binding)"
     ]
    },
    {
     "cell_type": "code",
     "collapsed": false,
     "input": [
      "q_H1, q_H2, QH, q_L1, q_L2, QL, Qbar = symbols('q_1^H q_2^H Q_H q_1^L q_2^L Q_L Q_bar')\n",
      "# Now only 1 market: Firm 1 has L cost, and Firm 2 has H cost\n",
      "Profit_1 = get_pH_LC(QH)*q_H1 + get_pL_LC(QL)*q_L1\n",
      "Profit_1 = Profit_1.subs(QH, q_H1+q_H2).subs(QL, q_L1+q_L2)\n",
      "FOC_qH1 = solve(diff(Profit_1, q_H1), q_H1)[0]\n",
      "Profit_2 = get_pH_HC(QH)*q_H2 + get_pL_HC(QL)*q_L2\n",
      "Profit_2 = Profit_2.subs(QH, q_H1+q_H2).subs(QL, q_L1+q_L2)\n",
      "FOC_qH2 = solve(diff(Profit_2, q_H2), q_H2)[0]\n",
      "eq_qH1 = solve(FOC_qH1.subs(q_H2, FOC_qH2) - q_H1, q_H1)[0]\n",
      "eq_qH2 = factor(FOC_qH2.subs(q_H1, eq_qH1))"
     ],
     "language": "python",
     "metadata": {},
     "outputs": [],
     "prompt_number": 26
    },
    {
     "cell_type": "code",
     "collapsed": false,
     "input": [
      "FOC_qL1 = solve(diff(Profit_1, q_L1), q_L1)[0]\n",
      "FOC_qL2 = solve(diff(Profit_2, q_L2), q_L2)[0]\n",
      "eq_qL1 = solve(FOC_qL1.subs(q_L2, FOC_qL2) - q_L1, q_L1)[0]\n",
      "eq_qL2 = factor(FOC_qL2.subs(q_L1, eq_qL1))\n",
      "result_C_nonbind = get_eq_diffcost(eq_qH1, eq_qH2, eq_qL1, eq_qL2)"
     ],
     "language": "python",
     "metadata": {},
     "outputs": [],
     "prompt_number": 27
    },
    {
     "cell_type": "heading",
     "level": 3,
     "metadata": {},
     "source": [
      "DiffCost: Airline 1 Deviates"
     ]
    },
    {
     "cell_type": "code",
     "collapsed": false,
     "input": [
      "q_H1, q_H2, QH, q_L1, q_L2, QL, Qbar = symbols('q_1^H q_2^H Q_H q_1^L q_2^L Q_L Q_bar')\n",
      "Profit_1 = get_pH_LC(QH)*q_H1 + get_pL_LC(QL)*q_L1\n",
      "eq_qH2 = result_M_nonbind[1] # Airline 2 produces Collusion quantity\n",
      "eq_qL2 = result_M_nonbind[4]\n",
      "Profit_1 = Profit_1.subs(QH, q_H1+q_H2).subs(QL, q_L1+q_L2).subs(q_H2,eq_qH2).subs(q_L2,eq_qL2)\n",
      "eq_qH1 = solve(diff(Profit_1, q_H1), q_H1)[0]\n",
      "eq_qL1 = solve(diff(Profit_1, q_L1), q_L1)[0]\n",
      "result_Dev_nonbind1 = get_eq_diffcost(eq_qH1, eq_qH2, eq_qL1, eq_qL2)"
     ],
     "language": "python",
     "metadata": {},
     "outputs": [],
     "prompt_number": 60
    },
    {
     "cell_type": "code",
     "collapsed": false,
     "input": [
      "gain = result_Dev_nonbind1[-3] - result_M_nonbind[-3]\n",
      "loss = result_M_nonbind[-3] - result_C_nonbind[-3]\n",
      "sep1 = delta*loss/(1-delta) - gain\n",
      "delta_bar1 = solve(sep1, delta)[0]"
     ],
     "language": "python",
     "metadata": {},
     "outputs": [],
     "prompt_number": 61
    },
    {
     "cell_type": "heading",
     "level": 3,
     "metadata": {},
     "source": [
      "DiffCost: Airline 2 Deviates"
     ]
    },
    {
     "cell_type": "code",
     "collapsed": false,
     "input": [
      "Profit_2 = get_pH_HC(QH)*q_H2 + get_pL_HC(QL)*q_L2\n",
      "eq_qH1 = result_M_nonbind[0] # Airline 2 produces Collusion quantity\n",
      "eq_qL1 = result_M_nonbind[3]\n",
      "Profit_2 = Profit_2.subs(QH, q_H1+q_H2).subs(QL, q_L1+q_L2).subs(q_H1,eq_qH1).subs(q_L1,eq_qL1)\n",
      "eq_qH2 = solve(diff(Profit_2, q_H2), q_H2)[0]\n",
      "eq_qL2 = solve(diff(Profit_2, q_L2), q_L2)[0]\n",
      "result_Dev_nonbind2 = get_eq_diffcost(eq_qH1, eq_qH2, eq_qL1, eq_qL2)"
     ],
     "language": "python",
     "metadata": {},
     "outputs": [],
     "prompt_number": 62
    },
    {
     "cell_type": "code",
     "collapsed": false,
     "input": [
      "gain = result_Dev_nonbind2[-2] - result_M_nonbind[-2]\n",
      "loss = result_M_nonbind[-2] - result_C_nonbind[-2]\n",
      "sep2 = delta*loss/(1-delta) - gain\n",
      "delta_bar2 = solve(sep2, delta)[0]"
     ],
     "language": "python",
     "metadata": {},
     "outputs": [],
     "prompt_number": 63
    },
    {
     "cell_type": "code",
     "collapsed": false,
     "input": [
      "delta_bar = [delta_bar1, delta_bar2]"
     ],
     "language": "python",
     "metadata": {},
     "outputs": [],
     "prompt_number": 65
    },
    {
     "cell_type": "code",
     "collapsed": false,
     "input": [
      "eq = [result_M_nonbind, result_C_nonbind, result_Dev_nonbind1, result_Dev_nonbind2]"
     ],
     "language": "python",
     "metadata": {},
     "outputs": [],
     "prompt_number": 56
    },
    {
     "cell_type": "code",
     "collapsed": false,
     "input": [
      "from pandas import DataFrame\n",
      "import pandas\n",
      "paradigm = ['Collusion','Competition','1 Deviate','2 Deviate']\n",
      "variables = ['Seats H-1', 'Seats H-2', 'Seats H-Total', \n",
      "             'Seats L-1', 'Seats L-2', 'Seats L-Total', \n",
      "             'Total Seats Sold', 'Cap',\n",
      "             'H Price', 'L Price', 'Avg Price', 'Price SD',\n",
      "             'Profit 1', 'Profit 2', 'Industry Profit']\n",
      "df = DataFrame(eq, index=paradigm, columns=variables)\n",
      "# df"
     ],
     "language": "python",
     "metadata": {},
     "outputs": [],
     "prompt_number": 58
    },
    {
     "cell_type": "heading",
     "level": 3,
     "metadata": {},
     "source": [
      "DiffCost: Numerical Calculation"
     ]
    },
    {
     "cell_type": "code",
     "collapsed": false,
     "input": [
      "# Initial Values\n",
      "a_val = 1.5\n",
      "Qbar_val = 0.6\n",
      "kH_val = 2.5\n",
      "kL_val = 0.8\n",
      "cH_val = 0.3\n",
      "cL_val = 0.1\n",
      "alpha_val = 0.78\n",
      "parameter_val={a:a_val, Qbar:Qbar_val, kH:kH_val, kL:kL_val, cH:cH_val, cL:cL_val, alpha:alpha_val}\n",
      "# Numerically Evaluate Equations\n",
      "numrows = len(eq)\n",
      "numcols = len(eq[0])\n",
      "eq_value = [[float(eq[y][x].evalf(subs=parameter_val)) for x in range(0,numcols)] for y in range(0,numrows)]\n",
      "# Put all Data into DataFrame\n",
      "pandas.set_option('display.precision',4)\n",
      "df_value = DataFrame(eq_value, index=paradigm, columns=variables)\n",
      "df_value"
     ],
     "language": "python",
     "metadata": {},
     "outputs": [
      {
       "html": [
        "<div style=\"max-height:1000px;max-width:1500px;overflow:auto;\">\n",
        "<table border=\"1\" class=\"dataframe\">\n",
        "  <thead>\n",
        "    <tr style=\"text-align: right;\">\n",
        "      <th></th>\n",
        "      <th>Seats H-1</th>\n",
        "      <th>Seats H-2</th>\n",
        "      <th>Seats H-Total</th>\n",
        "      <th>Seats L-1</th>\n",
        "      <th>Seats L-2</th>\n",
        "      <th>Seats L-Total</th>\n",
        "      <th>Total Seats Sold</th>\n",
        "      <th>Cap</th>\n",
        "      <th>H Price</th>\n",
        "      <th>L Price</th>\n",
        "      <th>Avg Price</th>\n",
        "      <th>Price SD</th>\n",
        "      <th>Profit 1</th>\n",
        "      <th>Profit 2</th>\n",
        "      <th>Industry Profit</th>\n",
        "    </tr>\n",
        "  </thead>\n",
        "  <tbody>\n",
        "    <tr>\n",
        "      <th>Collusion</th>\n",
        "      <td> 0.300</td>\n",
        "      <td> 0.000</td>\n",
        "      <td> 0.300</td>\n",
        "      <td> 0.300</td>\n",
        "      <td> 0.325</td>\n",
        "      <td> 0.625</td>\n",
        "      <td> 0.925</td>\n",
        "      <td> 1.2</td>\n",
        "      <td> 0.750</td>\n",
        "      <td> 0.500</td>\n",
        "      <td> 0.581</td>\n",
        "      <td> 0.117</td>\n",
        "      <td> 0.296</td>\n",
        "      <td> 0.084</td>\n",
        "      <td> 0.380</td>\n",
        "    </tr>\n",
        "    <tr>\n",
        "      <th>Competition</th>\n",
        "      <td> 0.213</td>\n",
        "      <td> 0.133</td>\n",
        "      <td> 0.347</td>\n",
        "      <td> 0.458</td>\n",
        "      <td> 0.208</td>\n",
        "      <td> 0.667</td>\n",
        "      <td> 1.013</td>\n",
        "      <td> 1.2</td>\n",
        "      <td> 0.633</td>\n",
        "      <td> 0.467</td>\n",
        "      <td> 0.524</td>\n",
        "      <td> 0.079</td>\n",
        "      <td> 0.282</td>\n",
        "      <td> 0.079</td>\n",
        "      <td> 0.361</td>\n",
        "    </tr>\n",
        "    <tr>\n",
        "      <th>1 Deviate</th>\n",
        "      <td> 0.280</td>\n",
        "      <td> 0.000</td>\n",
        "      <td> 0.280</td>\n",
        "      <td> 0.400</td>\n",
        "      <td> 0.325</td>\n",
        "      <td> 0.725</td>\n",
        "      <td> 1.005</td>\n",
        "      <td> 1.2</td>\n",
        "      <td> 0.800</td>\n",
        "      <td> 0.420</td>\n",
        "      <td> 0.526</td>\n",
        "      <td> 0.170</td>\n",
        "      <td> 0.324</td>\n",
        "      <td> 0.039</td>\n",
        "      <td> 0.363</td>\n",
        "    </tr>\n",
        "    <tr>\n",
        "      <th>2 Deviate</th>\n",
        "      <td> 0.300</td>\n",
        "      <td> 0.090</td>\n",
        "      <td> 0.390</td>\n",
        "      <td> 0.300</td>\n",
        "      <td> 0.287</td>\n",
        "      <td> 0.588</td>\n",
        "      <td> 0.977</td>\n",
        "      <td> 1.2</td>\n",
        "      <td> 0.525</td>\n",
        "      <td> 0.530</td>\n",
        "      <td> 0.528</td>\n",
        "      <td> 0.002</td>\n",
        "      <td> 0.257</td>\n",
        "      <td> 0.086</td>\n",
        "      <td> 0.343</td>\n",
        "    </tr>\n",
        "  </tbody>\n",
        "</table>\n",
        "</div>"
       ],
       "metadata": {},
       "output_type": "pyout",
       "prompt_number": 72,
       "text": [
        "             Seats H-1  Seats H-2  Seats H-Total  Seats L-1  Seats L-2  \\\n",
        "Collusion        0.300      0.000          0.300      0.300      0.325   \n",
        "Competition      0.213      0.133          0.347      0.458      0.208   \n",
        "1 Deviate        0.280      0.000          0.280      0.400      0.325   \n",
        "2 Deviate        0.300      0.090          0.390      0.300      0.287   \n",
        "\n",
        "             Seats L-Total  Total Seats Sold  Cap  H Price  L Price  \\\n",
        "Collusion            0.625             0.925  1.2    0.750    0.500   \n",
        "Competition          0.667             1.013  1.2    0.633    0.467   \n",
        "1 Deviate            0.725             1.005  1.2    0.800    0.420   \n",
        "2 Deviate            0.588             0.977  1.2    0.525    0.530   \n",
        "\n",
        "             Avg Price  Price SD  Profit 1  Profit 2  Industry Profit  \n",
        "Collusion        0.581     0.117     0.296     0.084            0.380  \n",
        "Competition      0.524     0.079     0.282     0.079            0.361  \n",
        "1 Deviate        0.526     0.170     0.324     0.039            0.363  \n",
        "2 Deviate        0.528     0.002     0.257     0.086            0.343  "
       ]
      }
     ],
     "prompt_number": 72
    },
    {
     "cell_type": "code",
     "collapsed": false,
     "input": [
      "[delta_bar[x].evalf(subs=parameter_val) for x in range(0,2)]"
     ],
     "language": "python",
     "metadata": {},
     "outputs": [
      {
       "latex": [
        "$$\\begin{bmatrix}-0.426877470355731, & 6.71098265895954\\end{bmatrix}$$"
       ],
       "metadata": {},
       "output_type": "pyout",
       "png": "[encoded data removed]",
       "prompt_number": 70,
       "text": [
        "[-0.426877470355731, 6.71098265895954]"
       ]
      }
     ],
     "prompt_number": 70
    },
    {
     "cell_type": "code",
     "collapsed": false,
     "input": [
      "# Draw Demand and MR Curves\n",
      "import numpy as np\n",
      "import matplotlib.pyplot as plt\n",
      "import matplotlib.text as text\n",
      "\n",
      "x = np.arange(0,3,.02)\n",
      "pH_line = a_val - kH_val * x\n",
      "pL_line = 1 - kL_val * x\n",
      "MRH_line = a_val - 2*kH_val * x\n",
      "MRL_line = 1 - 2*kL_val * x\n",
      "\n",
      "fig, ax = plt.subplots()\n",
      "plt.plot(x,pH_line,x,pL_line,x,MRH_line,'k--',x,MRL_line,'k:')\n",
      "plt.legend((r\"$D_H$\", r\"$D_L$\", r\"$MR_H$\", r\"$MR_L$\"),\n",
      "           'upper center', shadow=True)\n",
      "plt.ylim([0,a_val*1.1])\n",
      "plt.xlim([0,1/kL_val])\n",
      "plt.grid(False)\n",
      "plt.xlabel('Quantity')\n",
      "plt.ylabel('Price')\n",
      "# plt.title('Minimum Message Length')"
     ],
     "language": "python",
     "metadata": {},
     "outputs": [
      {
       "metadata": {},
       "output_type": "pyout",
       "prompt_number": 20,
       "text": [
        "<matplotlib.text.Text at 0x10a1760d0>"
       ]
      },
      {
       "metadata": {},
       "output_type": "display_data",
       "png": "[encoded data removed]",
       "text": [
        "<matplotlib.figure.Figure at 0x10a111a90>"
       ]
      }
     ],
     "prompt_number": 20
    },
    {
     "cell_type": "code",
     "collapsed": false,
     "input": [],
     "language": "python",
     "metadata": {},
     "outputs": [],
     "prompt_number": 18
    },
    {
     "cell_type": "code",
     "collapsed": false,
     "input": [],
     "language": "python",
     "metadata": {},
     "outputs": [],
     "prompt_number": 18
    },
    {
     "cell_type": "code",
     "collapsed": false,
     "input": [],
     "language": "python",
     "metadata": {},
     "outputs": [],
     "prompt_number": 18
    },
    {
     "cell_type": "code",
     "collapsed": false,
     "input": [],
     "language": "python",
     "metadata": {},
     "outputs": [],
     "prompt_number": 18
    },
    {
     "cell_type": "code",
     "collapsed": false,
     "input": [],
     "language": "python",
     "metadata": {},
     "outputs": [],
     "prompt_number": 18
    },
    {
     "cell_type": "code",
     "collapsed": false,
     "input": [],
     "language": "python",
     "metadata": {},
     "outputs": [],
     "prompt_number": 18
    }
   ],
   "metadata": {}
  }
 ]
}