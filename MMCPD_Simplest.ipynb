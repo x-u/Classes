{
 "metadata": {
  "name": ""
 },
 "nbformat": 3,
 "nbformat_minor": 0,
 "worksheets": [
  {
   "cells": [
    {
     "cell_type": "code",
     "collapsed": false,
     "input": [
      "import sympy\n",
      "from sympy import *\n",
      "from sympy.abc import a, b, c, delta\n",
      "init_printing()"
     ],
     "language": "python",
     "metadata": {},
     "outputs": [],
     "prompt_number": 24
    },
    {
     "cell_type": "heading",
     "level": 2,
     "metadata": {},
     "source": [
      "Simplest Version: Cournot + Non-Binding Capacity Constraint + N firms"
     ]
    },
    {
     "cell_type": "code",
     "collapsed": false,
     "input": [
      "QH, QL, Qbar, Q_iexcl_H, Q_iexcl_L = symbols('Q_H Q_L Q_bar Q_-i^H Q_-i^L')\n",
      "q_H1, q_H2, q_L1, q_L2 = symbols('q_1^H q_2^H q_1^L q_2^L')\n",
      "kH, kL = symbols('k_H k_L')\n",
      "N, N1, N2 = symbols('N N_1 N_2')"
     ],
     "language": "python",
     "metadata": {},
     "outputs": [],
     "prompt_number": 25
    },
    {
     "cell_type": "markdown",
     "metadata": {},
     "source": [
      "N airlines 1, 2, ... N serve in markets with two types of consumers: $H$ type and $L$ type. $H$ type consumers have high reservation price and are less sensitive to price change, while $L$ type consumers have low reservation price and are more sensitive to price change, i.e. expressed in the inverse demand function as $a>1$ and $k_H>k_L$. \n",
      "\n",
      "Both airlines choose how many seats to offer to the $H$ type and $L$ type customers $q_H^i$ and $q_L^i$ for $i=1,2$, and the prices $p_H$ and $p_L$ is determined by the demand function. Each airline's capacity is constrained at $q_H+q_L\\leq Q_{bar}$, so the total capacity for the market is $2*Q_{bar}$. Here we denote the total tickets for each type of customers as $Q_H=q_H^1+q_H^2$ and $Q_L=q_L^1+q_L^2$."
     ]
    },
    {
     "cell_type": "code",
     "collapsed": false,
     "input": [
      "# Demand Function\n",
      "def get_pH(QH):\n",
      "    return a - kH*QH\n",
      "def get_pL(QL):\n",
      "    return b - kL*QL"
     ],
     "language": "python",
     "metadata": {},
     "outputs": [],
     "prompt_number": 26
    },
    {
     "cell_type": "code",
     "collapsed": false,
     "input": [
      "def get_eq(qH, qL): # Symmetric Model: each of N firms have same output qH and qL\n",
      "\tQH = N*qH # Total Tickets for H Type\n",
      "\tQL = N*qL # Total Tickets for L Type\n",
      "\tQ = factor(QH + QL) # Total Tickets\n",
      "\tpH = factor(expand(get_pH(QH))) # Equilibrium Price for H Type\n",
      "\tpL = factor(expand(get_pL(QL))) # Equilibrium Price for L Type\n",
      "\tp_avg = factor((QH*pH + QL*pL) / Q)\n",
      "\tp_sd = factor(sqrt((QH*(pH - p_avg)**2 + QL*(pL - p_avg)**2) / Q))\n",
      "\tprofit = factor(pH*qH + pL*qL) # Profit for each airline\n",
      "\tresult = [qH, QH, qL, QL, Q, \n",
      "              pH, pL, p_avg, p_sd,\n",
      "              profit, profit]\n",
      "\treturn result\n",
      "def get_eq_dev(qH1, qL1, qH, qL): # Symmetric Model: each of N firms have same output qH and qL\n",
      "\tQH = qH1 + (N-1)*qH # Total Tickets for H Type\n",
      "\tQL = qL1 + (N-1)*qL # Total Tickets for L Type\n",
      "\tQ = factor(QH + QL) # Total Tickets\n",
      "\tpH = factor(expand(get_pH(QH))) # Equilibrium Price for H Type\n",
      "\tpL = factor(expand(get_pL(QL))) # Equilibrium Price for L Type\n",
      "\tp_avg = factor((QH*pH + QL*pL) / Q)\n",
      "\tp_sd = factor(sqrt((QH*(pH - p_avg)**2 + QL*(pL - p_avg)**2) / Q))\n",
      "\tprofit1 = factor(pH*qH1 + pL*qL1)\n",
      "\tprofit_others = factor(pH*qH + pL*qL)\n",
      "\tresult = [qH, QH, qL, QL, Q, \n",
      "              pH, pL, p_avg, p_sd,\n",
      "              profit1, profit_others]\n",
      "\treturn result"
     ],
     "language": "python",
     "metadata": {},
     "outputs": [],
     "prompt_number": 27
    },
    {
     "cell_type": "heading",
     "level": 3,
     "metadata": {},
     "source": [
      "Equilibrium for Monopoly/Collusion"
     ]
    },
    {
     "cell_type": "code",
     "collapsed": false,
     "input": [
      "Profit_Total = get_pH(QH)*QH + get_pL(QL)*QL\n",
      "eq_qH = solve(diff(Profit_Total, QH), QH)[0] / N\n",
      "eq_qL = solve(diff(Profit_Total, QL), QL)[0] / N\n",
      "result_M_nonbind = get_eq(eq_qH, eq_qL)"
     ],
     "language": "python",
     "metadata": {},
     "outputs": [],
     "prompt_number": 28
    },
    {
     "cell_type": "heading",
     "level": 1,
     "metadata": {},
     "source": [
      "Try BW values"
     ]
    },
    {
     "cell_type": "code",
     "collapsed": false,
     "input": [
      "profit_M = result_M_nonbind[-1]\n",
      "profit_M"
     ],
     "language": "python",
     "metadata": {},
     "outputs": [
      {
       "latex": [
        "$$\\frac{a^{2} k_{L} + b^{2} k_{H}}{4 N k_{H} k_{L}}$$"
       ],
       "metadata": {},
       "output_type": "pyout",
       "png": "[encoded data removed]",
       "prompt_number": 29,
       "text": [
        " 2        2    \n",
        "a \u22c5k_L + b \u22c5k_H\n",
        "\u2500\u2500\u2500\u2500\u2500\u2500\u2500\u2500\u2500\u2500\u2500\u2500\u2500\u2500\u2500\n",
        "  4\u22c5N\u22c5k_H\u22c5k_L  "
       ]
      }
     ],
     "prompt_number": 29
    },
    {
     "cell_type": "heading",
     "level": 3,
     "metadata": {},
     "source": [
      "One Market Case"
     ]
    },
    {
     "cell_type": "code",
     "collapsed": false,
     "input": [
      "gain = profit_M*N\n",
      "loss = profit_M/(1-delta)\n",
      "sep = factor(gain - loss)\n",
      "delta_bar = solve(sep,delta)[0]\n",
      "delta_bar"
     ],
     "language": "python",
     "metadata": {},
     "outputs": [
      {
       "latex": [
        "$$\\frac{1}{N} \\left(N - 1\\right)$$"
       ],
       "metadata": {},
       "output_type": "pyout",
       "png": "[encoded data removed]",
       "prompt_number": 61,
       "text": [
        "N - 1\n",
        "\u2500\u2500\u2500\u2500\u2500\n",
        "  N  "
       ]
      }
     ],
     "prompt_number": 61
    },
    {
     "cell_type": "heading",
     "level": 3,
     "metadata": {},
     "source": [
      "Two Markets"
     ]
    },
    {
     "cell_type": "code",
     "collapsed": false,
     "input": [
      "sep = sep.subs(kH,kH_val).subs(kL,kL_val)\n",
      "sep"
     ],
     "language": "python",
     "metadata": {},
     "outputs": [
      {
       "latex": [
        "$$\\frac{\\left(a^{2} + 2 b^{2}\\right) \\left(N \\delta - N + 1\\right)}{8 N \\left(\\delta - 1\\right)}$$"
       ],
       "metadata": {},
       "output_type": "pyout",
       "png": "[encoded data removed]",
       "prompt_number": 62,
       "text": [
        "\u239b 2      2\u239e              \n",
        "\u239da  + 2\u22c5b \u23a0\u22c5(N\u22c5\u03b4 - N + 1)\n",
        "\u2500\u2500\u2500\u2500\u2500\u2500\u2500\u2500\u2500\u2500\u2500\u2500\u2500\u2500\u2500\u2500\u2500\u2500\u2500\u2500\u2500\u2500\u2500\u2500\u2500\n",
        "       8\u22c5N\u22c5(\u03b4 - 1)       "
       ]
      }
     ],
     "prompt_number": 62
    },
    {
     "cell_type": "code",
     "collapsed": false,
     "input": [
      "sep1 = sep.subs(a,2).subs(b,1.4).subs(N,2)\n",
      "delta_1 = solve(sep1, delta)\n",
      "delta_1"
     ],
     "language": "python",
     "metadata": {},
     "outputs": [
      {
       "latex": [
        "$$\\begin{bmatrix}0.5\\end{bmatrix}$$"
       ],
       "metadata": {},
       "output_type": "pyout",
       "png": "[encoded data removed]",
       "prompt_number": 63,
       "text": [
        "[0.5]"
       ]
      }
     ],
     "prompt_number": 63
    },
    {
     "cell_type": "code",
     "collapsed": false,
     "input": [
      "sep2 = sep.subs(a,3).subs(b,2).subs(N,3)\n",
      "delta_2 = solve(sep2, delta)\n",
      "delta_2"
     ],
     "language": "python",
     "metadata": {},
     "outputs": [
      {
       "latex": [
        "$$\\begin{bmatrix}\\frac{2}{3}\\end{bmatrix}$$"
       ],
       "metadata": {},
       "output_type": "pyout",
       "png": "[encoded data removed]",
       "prompt_number": 65,
       "text": [
        "[2/3]"
       ]
      }
     ],
     "prompt_number": 65
    },
    {
     "cell_type": "code",
     "collapsed": false,
     "input": [
      "sep_sum = sep1+sep2\n",
      "delta_sum = solve(sep_sum, delta)\n",
      "delta_sum"
     ],
     "language": "python",
     "metadata": {},
     "outputs": [
      {
       "latex": [
        "$$\\begin{bmatrix}0.613697164258962\\end{bmatrix}$$"
       ],
       "metadata": {},
       "output_type": "pyout",
       "png": "[encoded data removed]",
       "prompt_number": 66,
       "text": [
        "[0.613697164258962]"
       ]
      }
     ],
     "prompt_number": 66
    },
    {
     "cell_type": "heading",
     "level": 3,
     "metadata": {},
     "source": [
      "Equilibrium for Cournot/Competition Model"
     ]
    },
    {
     "cell_type": "code",
     "collapsed": false,
     "input": [
      "Profit_1 = get_pH(QH)*q_H1 + get_pL(QL)*q_L1\n",
      "Profit_1 = Profit_1.subs(QH, q_H1+Q_iexcl_H).subs(QL, q_L1+Q_iexcl_L)\n",
      "eq_qH = solve(solve(diff(Profit_1, q_H1), q_H1)[0].subs(Q_iexcl_H,(N-1)*q_H1) - q_H1, q_H1)[0]\n",
      "eq_qL = solve(solve(diff(Profit_1, q_L1), q_L1)[0].subs(Q_iexcl_L,(N-1)*q_L1) - q_L1, q_L1)[0]\n",
      "result_C_nonbind = get_eq(eq_qH, eq_qL)"
     ],
     "language": "python",
     "metadata": {},
     "outputs": [],
     "prompt_number": 6
    },
    {
     "cell_type": "heading",
     "level": 3,
     "metadata": {},
     "source": [
      "One Airline Deviates from Collusion with Non-Binding Cap Constrain"
     ]
    },
    {
     "cell_type": "code",
     "collapsed": false,
     "input": [
      "Profit_1 = (get_pH(QH)*q_H1 + get_pL(QL)*q_L1).subs(QH, q_H1+Q_iexcl_H).subs(QL, q_L1+Q_iexcl_L)\n",
      "eq_qH_M = result_M_nonbind[0] # Airline 2 produces Collusion quantity\n",
      "eq_qL_M = result_M_nonbind[2]\n",
      "Profit_1 = Profit_1.subs(Q_iexcl_H, eq_qH_M).subs(Q_iexcl_L, eq_qL_M)\n",
      "eq_qH1 = solve(diff(Profit_1, q_H1), q_H1)[0]\n",
      "eq_qL1 = solve(diff(Profit_1, q_L1), q_L1)[0]\n",
      "result_Dev_nonbind = get_eq_dev(eq_qH1, eq_qL1, eq_qH_M, eq_qL_M)"
     ],
     "language": "python",
     "metadata": {},
     "outputs": [],
     "prompt_number": 7
    },
    {
     "cell_type": "markdown",
     "metadata": {},
     "source": [
      "By deviating away from collusion, airline 1 will gain: "
     ]
    },
    {
     "cell_type": "code",
     "collapsed": false,
     "input": [
      "gain = factor(result_Dev_nonbind[-2] - result_M_nonbind[-2])"
     ],
     "language": "python",
     "metadata": {},
     "outputs": [],
     "prompt_number": 8
    },
    {
     "cell_type": "markdown",
     "metadata": {},
     "source": [
      "However, in the future rounds airline 2 always compete, and airline 1 loses the following amount in each period: "
     ]
    },
    {
     "cell_type": "code",
     "collapsed": false,
     "input": [
      "loss = factor(result_M_nonbind[-2] - result_C_nonbind[-2])"
     ],
     "language": "python",
     "metadata": {},
     "outputs": [],
     "prompt_number": 9
    },
    {
     "cell_type": "markdown",
     "metadata": {},
     "source": [
      "So no airline would deviate from collusion state if the gain is less than the present value of the losses, i.e. $Gain<Loss (\\delta+\\delta^2+\\delta^3+...) $, which holds true if and only if $\\delta$ is greater than the following value:"
     ]
    },
    {
     "cell_type": "code",
     "collapsed": false,
     "input": [
      "sep = factor(delta*loss/(1-delta) - gain)\n",
      "delta_bar = solve(sep, delta)[0]"
     ],
     "language": "python",
     "metadata": {},
     "outputs": [],
     "prompt_number": 10
    },
    {
     "cell_type": "code",
     "collapsed": false,
     "input": [
      "sep1 = sep.subs(N,N1)\n",
      "sep2 = sep.subs(N,N2)\n",
      "sep_sum = factor(sep1 + sep2)\n",
      "delta_avg = solve(sep_sum, delta)[0]\n",
      "from sympy.plotting import plot\n",
      "delta_avg_N1 = delta_avg.subs(N2,10).subs(N1,N)\n",
      "plot(delta_bar, delta_avg_N1, (N, 2, 30))\n",
      "# delta_avg_N1"
     ],
     "language": "python",
     "metadata": {},
     "outputs": [
      {
       "metadata": {},
       "output_type": "display_data",
       "png": "[encoded data removed]",
       "text": [
        "<matplotlib.figure.Figure at 0x108d71e90>"
       ]
      },
      {
       "metadata": {},
       "output_type": "pyout",
       "prompt_number": 11,
       "text": [
        "<sympy.plotting.plot.Plot at 0x108afb890>"
       ]
      }
     ],
     "prompt_number": 11
    },
    {
     "cell_type": "heading",
     "level": 3,
     "metadata": {},
     "source": [
      "Publishment: 0 Profit"
     ]
    },
    {
     "cell_type": "code",
     "collapsed": false,
     "input": [
      "gain = factor(result_Dev_nonbind[-2] - result_M_nonbind[-2])\n",
      "loss = result_M_nonbind[-2]\n",
      "sep = factor(delta*loss/(1-delta) - gain)\n",
      "delta_bar = solve(sep, delta)[0]\n",
      "sep1 = sep.subs(N,N1)\n",
      "sep2 = sep.subs(N,N2)\n",
      "sep_sum = factor(sep1 + sep2)\n",
      "delta_avg = solve(sep_sum, delta)[0]\n",
      "from sympy.plotting import plot\n",
      "delta_avg_N1 = delta_avg.subs(N2,10).subs(N1,N)\n",
      "plot(delta_bar, delta_avg_N1, (N, 2, 30))\n",
      "# delta_avg_N1"
     ],
     "language": "python",
     "metadata": {},
     "outputs": [
      {
       "metadata": {},
       "output_type": "display_data",
       "png": "[encoded data removed]",
       "text": [
        "<matplotlib.figure.Figure at 0x10908dd10>"
       ]
      },
      {
       "metadata": {},
       "output_type": "pyout",
       "prompt_number": 12,
       "text": [
        "<sympy.plotting.plot.Plot at 0x108ddded0>"
       ]
      }
     ],
     "prompt_number": 12
    },
    {
     "cell_type": "code",
     "collapsed": false,
     "input": [
      "delta_avg"
     ],
     "language": "python",
     "metadata": {},
     "outputs": [
      {
       "latex": [
        "$$\\frac{\\frac{2 N_{2}}{3} N_{1}^{2} - N_{1}^{2} + \\frac{2 N_{1}}{3} N_{2}^{2} - N_{2}^{2}}{2 N_{1}^{2} N_{2} - N_{1}^{2} + 2 N_{1} N_{2}^{2} - N_{2}^{2}}$$"
       ],
       "metadata": {},
       "output_type": "pyout",
       "png": "[encoded data removed]",
       "prompt_number": 22,
       "text": [
        "    2                   2      \n",
        "2\u22c5N\u2081 \u22c5N\u2082     2   2\u22c5N\u2081\u22c5N\u2082      2\n",
        "\u2500\u2500\u2500\u2500\u2500\u2500\u2500\u2500 - N\u2081  + \u2500\u2500\u2500\u2500\u2500\u2500\u2500\u2500 - N\u2082 \n",
        "   3                3          \n",
        "\u2500\u2500\u2500\u2500\u2500\u2500\u2500\u2500\u2500\u2500\u2500\u2500\u2500\u2500\u2500\u2500\u2500\u2500\u2500\u2500\u2500\u2500\u2500\u2500\u2500\u2500\u2500\u2500\u2500\u2500\u2500\n",
        "    2        2          2     2\n",
        "2\u22c5N\u2081 \u22c5N\u2082 - N\u2081  + 2\u22c5N\u2081\u22c5N\u2082  - N\u2082 "
       ]
      }
     ],
     "prompt_number": 22
    },
    {
     "cell_type": "code",
     "collapsed": false,
     "input": [
      "eq = [result_M_nonbind, result_C_nonbind, result_Dev_nonbind]\n",
      "result_Dev_nonbind"
     ],
     "language": "python",
     "metadata": {},
     "outputs": [
      {
       "latex": [
        "$$\\begin{bmatrix}\\frac{a}{2 N k_{H}}, & \\frac{a \\left(N - 1\\right)}{2 N k_{H}} + \\frac{a \\left(2 N - 1\\right)}{4 N k_{H}}, & \\frac{1}{2 N k_{L}}, & \\frac{N - 1}{2 N k_{L}} + \\frac{2 N - 1}{4 N k_{L}}, & \\frac{\\left(4 N - 3\\right) \\left(a k_{L} + k_{H}\\right)}{4 N k_{H} k_{L}}, & \\frac{3 a}{4 N}, & \\frac{3}{4 N}, & \\frac{3 a^{2} k_{L} + 3 k_{H}}{4 N \\left(a k_{L} + k_{H}\\right)}, & \\frac{3}{4} \\sqrt{\\frac{a k_{H} k_{L} \\left(a - 1\\right)^{2} \\left(a k_{L} + k_{H}\\right)}{N^{2} a^{3} k_{L}^{3} + 3 N^{2} a^{2} k_{H} k_{L}^{2} + 3 N^{2} a k_{H}^{2} k_{L} + N^{2} k_{H}^{3}}}, & \\frac{3}{16 N^{2} k_{H} k_{L}} \\left(2 N - 1\\right) \\left(a^{2} k_{L} + k_{H}\\right), & \\frac{3 a^{2} k_{L} + 3 k_{H}}{8 N^{2} k_{H} k_{L}}\\end{bmatrix}$$"
       ],
       "metadata": {},
       "output_type": "pyout",
       "prompt_number": 13,
       "text": [
        "\u23a1                                                                             \n",
        "\u23a2                                                                             \n",
        "\u23a2                                                                             \n",
        "\u23a2                                                                             \n",
        "\u23a2                                                                             \n",
        "\u23a2   a     a\u22c5(N - 1)   a\u22c5(2\u22c5N - 1)     1      N - 1    2\u22c5N - 1  (4\u22c5N - 3)\u22c5(a\u22c5k_\n",
        "\u23a2\u2500\u2500\u2500\u2500\u2500\u2500\u2500, \u2500\u2500\u2500\u2500\u2500\u2500\u2500\u2500\u2500 + \u2500\u2500\u2500\u2500\u2500\u2500\u2500\u2500\u2500\u2500\u2500, \u2500\u2500\u2500\u2500\u2500\u2500\u2500, \u2500\u2500\u2500\u2500\u2500\u2500\u2500 + \u2500\u2500\u2500\u2500\u2500\u2500\u2500, \u2500\u2500\u2500\u2500\u2500\u2500\u2500\u2500\u2500\u2500\u2500\u2500\u2500\u2500\u2500\n",
        "\u23a22\u22c5N\u22c5k_H   2\u22c5N\u22c5k_H      4\u22c5N\u22c5k_H    2\u22c5N\u22c5k_L  2\u22c5N\u22c5k_L   4\u22c5N\u22c5k_L        4\u22c5N\u22c5k_H\u22c5k\n",
        "\u23a3                                                                             \n",
        "\n",
        "                                               _______________________________\n",
        "                                              \u2571                               \n",
        "                                             \u2571               a\u22c5k_H\u22c5k_L\u22c5(a - 1)\n",
        "                                       3\u22c5   \u2571   \u2500\u2500\u2500\u2500\u2500\u2500\u2500\u2500\u2500\u2500\u2500\u2500\u2500\u2500\u2500\u2500\u2500\u2500\u2500\u2500\u2500\u2500\u2500\u2500\u2500\u2500\u2500\u2500\u2500\u2500\n",
        "                       \u239b 2          \u239e      \u2571     2  3    3      2  2        2 \n",
        "L + k_H)  3\u22c5a   3    3\u22c5\u239da \u22c5k_L + k_H\u23a0    \u2572\u2571     N \u22c5a \u22c5k_L  + 3\u22c5N \u22c5a \u22c5k_H\u22c5k_L  \n",
        "\u2500\u2500\u2500\u2500\u2500\u2500\u2500\u2500, \u2500\u2500\u2500, \u2500\u2500\u2500, \u2500\u2500\u2500\u2500\u2500\u2500\u2500\u2500\u2500\u2500\u2500\u2500\u2500\u2500\u2500\u2500\u2500, \u2500\u2500\u2500\u2500\u2500\u2500\u2500\u2500\u2500\u2500\u2500\u2500\u2500\u2500\u2500\u2500\u2500\u2500\u2500\u2500\u2500\u2500\u2500\u2500\u2500\u2500\u2500\u2500\u2500\u2500\u2500\u2500\u2500\u2500\u2500\u2500\u2500\u2500\u2500\n",
        "_L        4\u22c5N  4\u22c5N  4\u22c5N\u22c5(a\u22c5k_L + k_H)                                   4     \n",
        "                                                                              \n",
        "\n",
        "____________________________                                              \u23a4\n",
        "2                                                                         \u23a5\n",
        " \u22c5(a\u22c5k_L + k_H)                                                           \u23a5\n",
        "\u2500\u2500\u2500\u2500\u2500\u2500\u2500\u2500\u2500\u2500\u2500\u2500\u2500\u2500\u2500\u2500\u2500\u2500\u2500\u2500\u2500\u2500\u2500\u2500\u2500\u2500\u2500                                               \u23a5\n",
        "     2      2        2    3               \u239b 2          \u239e    \u239b 2          \u239e\u23a5\n",
        "+ 3\u22c5N \u22c5a\u22c5k_H \u22c5k_L + N \u22c5k_H    3\u22c5(2\u22c5N - 1)\u22c5\u239da \u22c5k_L + k_H\u23a0  3\u22c5\u239da \u22c5k_L + k_H\u23a0\u23a5\n",
        "\u2500\u2500\u2500\u2500\u2500\u2500\u2500\u2500\u2500\u2500\u2500\u2500\u2500\u2500\u2500\u2500\u2500\u2500\u2500\u2500\u2500\u2500\u2500\u2500\u2500\u2500\u2500\u2500, \u2500\u2500\u2500\u2500\u2500\u2500\u2500\u2500\u2500\u2500\u2500\u2500\u2500\u2500\u2500\u2500\u2500\u2500\u2500\u2500\u2500\u2500\u2500\u2500\u2500\u2500, \u2500\u2500\u2500\u2500\u2500\u2500\u2500\u2500\u2500\u2500\u2500\u2500\u2500\u2500\u2500\u2500\u23a5\n",
        "                                        2                      2          \u23a5\n",
        "                                    16\u22c5N \u22c5k_H\u22c5k_L           8\u22c5N \u22c5k_H\u22c5k_L  \u23a6"
       ]
      }
     ],
     "prompt_number": 13
    },
    {
     "cell_type": "code",
     "collapsed": false,
     "input": [
      "from pandas import DataFrame\n",
      "import pandas\n",
      "paradigm = ['Monopoly/Collusion','Cournot Competition','One Firm Deviate']\n",
      "variables = ['Seats H', 'Seats H-Total', \n",
      "             'Seats L', 'Seats L-Total', 'Total Seats Sold',\n",
      "             'H Price', 'L Price', 'Avg Price', 'Price SD',\n",
      "             'Profit 1', 'Profit Others']\n",
      "df = DataFrame(eq, index=paradigm, columns=variables)\n",
      "df"
     ],
     "language": "python",
     "metadata": {},
     "outputs": [
      {
       "html": [
        "<div style=\"max-height:1000px;max-width:1500px;overflow:auto;\">\n",
        "<table border=\"1\" class=\"dataframe\">\n",
        "  <thead>\n",
        "    <tr style=\"text-align: right;\">\n",
        "      <th></th>\n",
        "      <th>Seats H</th>\n",
        "      <th>Seats H-Total</th>\n",
        "      <th>Seats L</th>\n",
        "      <th>Seats L-Total</th>\n",
        "      <th>Total Seats Sold</th>\n",
        "      <th>H Price</th>\n",
        "      <th>L Price</th>\n",
        "      <th>Avg Price</th>\n",
        "      <th>Price SD</th>\n",
        "      <th>Profit 1</th>\n",
        "      <th>Profit Others</th>\n",
        "    </tr>\n",
        "  </thead>\n",
        "  <tbody>\n",
        "    <tr>\n",
        "      <th>Monopoly/Collusion</th>\n",
        "      <td>     a/(2*N*k_H)</td>\n",
        "      <td>                                   a/(2*k_H)</td>\n",
        "      <td>     1/(2*N*k_L)</td>\n",
        "      <td>                               1/(2*k_L)</td>\n",
        "      <td>             (a*k_L + k_H)/(2*k_H*k_L)</td>\n",
        "      <td>       a/2</td>\n",
        "      <td>       1/2</td>\n",
        "      <td>       (a**2*k_L + k_H)/(2*(a*k_L + k_H))</td>\n",
        "      <td> sqrt(a*k_H*k_L*(a - 1)**2*(a*k_L + k_H)/(a**3*...</td>\n",
        "      <td>                 (a**2*k_L + k_H)/(4*N*k_H*k_L)</td>\n",
        "      <td>        (a**2*k_L + k_H)/(4*N*k_H*k_L)</td>\n",
        "    </tr>\n",
        "    <tr>\n",
        "      <th>Cournot Competition</th>\n",
        "      <td> a/(k_H*(N + 1))</td>\n",
        "      <td>                           N*a/(k_H*(N + 1))</td>\n",
        "      <td> 1/(k_L*(N + 1))</td>\n",
        "      <td>                         N/(k_L*(N + 1))</td>\n",
        "      <td>     N*(a*k_L + k_H)/(k_H*k_L*(N + 1))</td>\n",
        "      <td> a/(N + 1)</td>\n",
        "      <td> 1/(N + 1)</td>\n",
        "      <td> (a**2*k_L + k_H)/((N + 1)*(a*k_L + k_H))</td>\n",
        "      <td> sqrt(a*k_H*k_L*(a - 1)**2*(a*k_L + k_H)/(N**2*...</td>\n",
        "      <td>          (a**2*k_L + k_H)/(k_H*k_L*(N + 1)**2)</td>\n",
        "      <td> (a**2*k_L + k_H)/(k_H*k_L*(N + 1)**2)</td>\n",
        "    </tr>\n",
        "    <tr>\n",
        "      <th>One Firm Deviate</th>\n",
        "      <td>     a/(2*N*k_H)</td>\n",
        "      <td> a*(N - 1)/(2*N*k_H) + a*(2*N - 1)/(4*N*k_H)</td>\n",
        "      <td>     1/(2*N*k_L)</td>\n",
        "      <td> (N - 1)/(2*N*k_L) + (2*N - 1)/(4*N*k_L)</td>\n",
        "      <td> (4*N - 3)*(a*k_L + k_H)/(4*N*k_H*k_L)</td>\n",
        "      <td> 3*a/(4*N)</td>\n",
        "      <td>   3/(4*N)</td>\n",
        "      <td>   3*(a**2*k_L + k_H)/(4*N*(a*k_L + k_H))</td>\n",
        "      <td> 3*sqrt(a*k_H*k_L*(a - 1)**2*(a*k_L + k_H)/(N**...</td>\n",
        "      <td> 3*(2*N - 1)*(a**2*k_L + k_H)/(16*N**2*k_H*k_L)</td>\n",
        "      <td>   3*(a**2*k_L + k_H)/(8*N**2*k_H*k_L)</td>\n",
        "    </tr>\n",
        "  </tbody>\n",
        "</table>\n",
        "</div>"
       ],
       "metadata": {},
       "output_type": "pyout",
       "prompt_number": 14,
       "text": [
        "                             Seats H  \\\n",
        "Monopoly/Collusion       a/(2*N*k_H)   \n",
        "Cournot Competition  a/(k_H*(N + 1))   \n",
        "One Firm Deviate         a/(2*N*k_H)   \n",
        "\n",
        "                                                   Seats H-Total  \\\n",
        "Monopoly/Collusion                                     a/(2*k_H)   \n",
        "Cournot Competition                            N*a/(k_H*(N + 1))   \n",
        "One Firm Deviate     a*(N - 1)/(2*N*k_H) + a*(2*N - 1)/(4*N*k_H)   \n",
        "\n",
        "                             Seats L                            Seats L-Total  \\\n",
        "Monopoly/Collusion       1/(2*N*k_L)                                1/(2*k_L)   \n",
        "Cournot Competition  1/(k_L*(N + 1))                          N/(k_L*(N + 1))   \n",
        "One Firm Deviate         1/(2*N*k_L)  (N - 1)/(2*N*k_L) + (2*N - 1)/(4*N*k_L)   \n",
        "\n",
        "                                          Total Seats Sold    H Price  \\\n",
        "Monopoly/Collusion               (a*k_L + k_H)/(2*k_H*k_L)        a/2   \n",
        "Cournot Competition      N*(a*k_L + k_H)/(k_H*k_L*(N + 1))  a/(N + 1)   \n",
        "One Firm Deviate     (4*N - 3)*(a*k_L + k_H)/(4*N*k_H*k_L)  3*a/(4*N)   \n",
        "\n",
        "                       L Price                                 Avg Price  \\\n",
        "Monopoly/Collusion         1/2        (a**2*k_L + k_H)/(2*(a*k_L + k_H))   \n",
        "Cournot Competition  1/(N + 1)  (a**2*k_L + k_H)/((N + 1)*(a*k_L + k_H))   \n",
        "One Firm Deviate       3/(4*N)    3*(a**2*k_L + k_H)/(4*N*(a*k_L + k_H))   \n",
        "\n",
        "                                                              Price SD  \\\n",
        "Monopoly/Collusion   sqrt(a*k_H*k_L*(a - 1)**2*(a*k_L + k_H)/(a**3*...   \n",
        "Cournot Competition  sqrt(a*k_H*k_L*(a - 1)**2*(a*k_L + k_H)/(N**2*...   \n",
        "One Firm Deviate     3*sqrt(a*k_H*k_L*(a - 1)**2*(a*k_L + k_H)/(N**...   \n",
        "\n",
        "                                                           Profit 1  \\\n",
        "Monopoly/Collusion                   (a**2*k_L + k_H)/(4*N*k_H*k_L)   \n",
        "Cournot Competition           (a**2*k_L + k_H)/(k_H*k_L*(N + 1)**2)   \n",
        "One Firm Deviate     3*(2*N - 1)*(a**2*k_L + k_H)/(16*N**2*k_H*k_L)   \n",
        "\n",
        "                                             Profit Others  \n",
        "Monopoly/Collusion          (a**2*k_L + k_H)/(4*N*k_H*k_L)  \n",
        "Cournot Competition  (a**2*k_L + k_H)/(k_H*k_L*(N + 1)**2)  \n",
        "One Firm Deviate       3*(a**2*k_L + k_H)/(8*N**2*k_H*k_L)  "
       ]
      }
     ],
     "prompt_number": 14
    },
    {
     "cell_type": "code",
     "collapsed": false,
     "input": [
      "tl=np.reshape(map(lambda tc: '$'+latex(tc)+'$',np.ravel(eq)),np.shape(eq))\n",
      "df = DataFrame(tl, index=paradigm, columns=variables)\n",
      "df"
     ],
     "language": "python",
     "metadata": {},
     "outputs": [
      {
       "html": [
        "<div style=\"max-height:1000px;max-width:1500px;overflow:auto;\">\n",
        "<table border=\"1\" class=\"dataframe\">\n",
        "  <thead>\n",
        "    <tr style=\"text-align: right;\">\n",
        "      <th></th>\n",
        "      <th>Seats H</th>\n",
        "      <th>Seats H-Total</th>\n",
        "      <th>Seats L</th>\n",
        "      <th>Seats L-Total</th>\n",
        "      <th>Total Seats Sold</th>\n",
        "      <th>H Price</th>\n",
        "      <th>L Price</th>\n",
        "      <th>Avg Price</th>\n",
        "      <th>Price SD</th>\n",
        "      <th>Profit 1</th>\n",
        "      <th>Profit Others</th>\n",
        "    </tr>\n",
        "  </thead>\n",
        "  <tbody>\n",
        "    <tr>\n",
        "      <th>Monopoly/Collusion</th>\n",
        "      <td>                $\\frac{a}{2 N k_{H}}$</td>\n",
        "      <td>                               $\\frac{a}{2 k_{H}}$</td>\n",
        "      <td>                $\\frac{1}{2 N k_{L}}$</td>\n",
        "      <td>                               $\\frac{1}{2 k_{L}}$</td>\n",
        "      <td>           $\\frac{a k_{L} + k_{H}}{2 k_{H} k_{L}}$</td>\n",
        "      <td>     $\\frac{a}{2}$</td>\n",
        "      <td>     $\\frac{1}{2}$</td>\n",
        "      <td> $\\frac{a^{2} k_{L} + k_{H}}{2 a k_{L} + 2 k_{H}}$</td>\n",
        "      <td> $\\frac{1}{2} \\sqrt{\\frac{a k_{H} k_{L} \\left(a...</td>\n",
        "      <td>     $\\frac{a^{2} k_{L} + k_{H}}{4 N k_{H} k_{L}}$</td>\n",
        "      <td>     $\\frac{a^{2} k_{L} + k_{H}}{4 N k_{H} k_{L}}$</td>\n",
        "    </tr>\n",
        "    <tr>\n",
        "      <th>Cournot Competition</th>\n",
        "      <td> $\\frac{a}{k_{H} \\left(N + 1\\right)}$</td>\n",
        "      <td>            $\\frac{N a}{k_{H} \\left(N + 1\\right)}$</td>\n",
        "      <td> $\\frac{1}{k_{L} \\left(N + 1\\right)}$</td>\n",
        "      <td>              $\\frac{N}{k_{L} \\left(N + 1\\right)}$</td>\n",
        "      <td> $\\frac{N \\left(a k_{L} + k_{H}\\right)}{k_{H} k...</td>\n",
        "      <td> $\\frac{a}{N + 1}$</td>\n",
        "      <td> $\\frac{1}{N + 1}$</td>\n",
        "      <td> $\\frac{a^{2} k_{L} + k_{H}}{\\left(N + 1\\right)...</td>\n",
        "      <td> $\\sqrt{\\frac{a k_{H} k_{L} \\left(a - 1\\right)^...</td>\n",
        "      <td> $\\frac{a^{2} k_{L} + k_{H}}{k_{H} k_{L} \\left(...</td>\n",
        "      <td> $\\frac{a^{2} k_{L} + k_{H}}{k_{H} k_{L} \\left(...</td>\n",
        "    </tr>\n",
        "    <tr>\n",
        "      <th>One Firm Deviate</th>\n",
        "      <td>                $\\frac{a}{2 N k_{H}}$</td>\n",
        "      <td> $\\frac{a \\left(N - 1\\right)}{2 N k_{H}} + \\fra...</td>\n",
        "      <td>                $\\frac{1}{2 N k_{L}}$</td>\n",
        "      <td> $\\frac{N - 1}{2 N k_{L}} + \\frac{2 N - 1}{4 N ...</td>\n",
        "      <td> $\\frac{\\left(4 N - 3\\right) \\left(a k_{L} + k_...</td>\n",
        "      <td> $\\frac{3 a}{4 N}$</td>\n",
        "      <td>   $\\frac{3}{4 N}$</td>\n",
        "      <td> $\\frac{3 a^{2} k_{L} + 3 k_{H}}{4 N \\left(a k_...</td>\n",
        "      <td> $\\frac{3}{4} \\sqrt{\\frac{a k_{H} k_{L} \\left(a...</td>\n",
        "      <td> $\\frac{3}{16 N^{2} k_{H} k_{L}} \\left(2 N - 1\\...</td>\n",
        "      <td> $\\frac{3 a^{2} k_{L} + 3 k_{H}}{8 N^{2} k_{H} ...</td>\n",
        "    </tr>\n",
        "  </tbody>\n",
        "</table>\n",
        "</div>"
       ],
       "metadata": {},
       "output_type": "pyout",
       "prompt_number": 15,
       "text": [
        "                                                  Seats H  \\\n",
        "Monopoly/Collusion                  $\\frac{a}{2 N k_{H}}$   \n",
        "Cournot Competition  $\\frac{a}{k_{H} \\left(N + 1\\right)}$   \n",
        "One Firm Deviate                    $\\frac{a}{2 N k_{H}}$   \n",
        "\n",
        "                                                         Seats H-Total  \\\n",
        "Monopoly/Collusion                                 $\\frac{a}{2 k_{H}}$   \n",
        "Cournot Competition             $\\frac{N a}{k_{H} \\left(N + 1\\right)}$   \n",
        "One Firm Deviate     $\\frac{a \\left(N - 1\\right)}{2 N k_{H}} + \\fra...   \n",
        "\n",
        "                                                  Seats L  \\\n",
        "Monopoly/Collusion                  $\\frac{1}{2 N k_{L}}$   \n",
        "Cournot Competition  $\\frac{1}{k_{L} \\left(N + 1\\right)}$   \n",
        "One Firm Deviate                    $\\frac{1}{2 N k_{L}}$   \n",
        "\n",
        "                                                         Seats L-Total  \\\n",
        "Monopoly/Collusion                                 $\\frac{1}{2 k_{L}}$   \n",
        "Cournot Competition               $\\frac{N}{k_{L} \\left(N + 1\\right)}$   \n",
        "One Firm Deviate     $\\frac{N - 1}{2 N k_{L}} + \\frac{2 N - 1}{4 N ...   \n",
        "\n",
        "                                                      Total Seats Sold  \\\n",
        "Monopoly/Collusion             $\\frac{a k_{L} + k_{H}}{2 k_{H} k_{L}}$   \n",
        "Cournot Competition  $\\frac{N \\left(a k_{L} + k_{H}\\right)}{k_{H} k...   \n",
        "One Firm Deviate     $\\frac{\\left(4 N - 3\\right) \\left(a k_{L} + k_...   \n",
        "\n",
        "                               H Price            L Price  \\\n",
        "Monopoly/Collusion       $\\frac{a}{2}$      $\\frac{1}{2}$   \n",
        "Cournot Competition  $\\frac{a}{N + 1}$  $\\frac{1}{N + 1}$   \n",
        "One Firm Deviate     $\\frac{3 a}{4 N}$    $\\frac{3}{4 N}$   \n",
        "\n",
        "                                                             Avg Price  \\\n",
        "Monopoly/Collusion   $\\frac{a^{2} k_{L} + k_{H}}{2 a k_{L} + 2 k_{H}}$   \n",
        "Cournot Competition  $\\frac{a^{2} k_{L} + k_{H}}{\\left(N + 1\\right)...   \n",
        "One Firm Deviate     $\\frac{3 a^{2} k_{L} + 3 k_{H}}{4 N \\left(a k_...   \n",
        "\n",
        "                                                              Price SD  \\\n",
        "Monopoly/Collusion   $\\frac{1}{2} \\sqrt{\\frac{a k_{H} k_{L} \\left(a...   \n",
        "Cournot Competition  $\\sqrt{\\frac{a k_{H} k_{L} \\left(a - 1\\right)^...   \n",
        "One Firm Deviate     $\\frac{3}{4} \\sqrt{\\frac{a k_{H} k_{L} \\left(a...   \n",
        "\n",
        "                                                              Profit 1  \\\n",
        "Monopoly/Collusion       $\\frac{a^{2} k_{L} + k_{H}}{4 N k_{H} k_{L}}$   \n",
        "Cournot Competition  $\\frac{a^{2} k_{L} + k_{H}}{k_{H} k_{L} \\left(...   \n",
        "One Firm Deviate     $\\frac{3}{16 N^{2} k_{H} k_{L}} \\left(2 N - 1\\...   \n",
        "\n",
        "                                                         Profit Others  \n",
        "Monopoly/Collusion       $\\frac{a^{2} k_{L} + k_{H}}{4 N k_{H} k_{L}}$  \n",
        "Cournot Competition  $\\frac{a^{2} k_{L} + k_{H}}{k_{H} k_{L} \\left(...  \n",
        "One Firm Deviate     $\\frac{3 a^{2} k_{L} + 3 k_{H}}{8 N^{2} k_{H} ...  "
       ]
      }
     ],
     "prompt_number": 15
    },
    {
     "cell_type": "code",
     "collapsed": false,
     "input": [
      "#print df.to_latex() # Same Table as above\n",
      "#print(latex(eq)) # better, but still need to organize manually into a table"
     ],
     "language": "python",
     "metadata": {},
     "outputs": [],
     "prompt_number": 16
    },
    {
     "cell_type": "heading",
     "level": 3,
     "metadata": {},
     "source": [
      "Numerical Calculation"
     ]
    },
    {
     "cell_type": "code",
     "collapsed": false,
     "input": [
      "# Initial Values\n",
      "a_val = 1.8\n",
      "Qbar_val = 0.4\n",
      "kH_val = 2\n",
      "kL_val = 1\n",
      "N_val = 2\n",
      "parameter_val={a:a_val, Qbar:Qbar_val, kH:kH_val, kL:kL_val, N:N_val}\n",
      "# Numerically Evaluate Equations\n",
      "numrows = len(eq)\n",
      "numcols = len(eq[0])\n",
      "eq_value = [[float(eq[y][x].evalf(subs=parameter_val)) for x in range(0,numcols)] for y in range(0,numrows)]\n",
      "# Put all Data into DataFrame\n",
      "pandas.set_option('display.precision',4)\n",
      "df_value = DataFrame(eq_value, index=paradigm, columns=variables)\n",
      "df_value"
     ],
     "language": "python",
     "metadata": {},
     "outputs": [
      {
       "html": [
        "<div style=\"max-height:1000px;max-width:1500px;overflow:auto;\">\n",
        "<table border=\"1\" class=\"dataframe\">\n",
        "  <thead>\n",
        "    <tr style=\"text-align: right;\">\n",
        "      <th></th>\n",
        "      <th>Seats H</th>\n",
        "      <th>Seats H-Total</th>\n",
        "      <th>Seats L</th>\n",
        "      <th>Seats L-Total</th>\n",
        "      <th>Total Seats Sold</th>\n",
        "      <th>H Price</th>\n",
        "      <th>L Price</th>\n",
        "      <th>Avg Price</th>\n",
        "      <th>Price SD</th>\n",
        "      <th>Profit 1</th>\n",
        "      <th>Profit Others</th>\n",
        "    </tr>\n",
        "  </thead>\n",
        "  <tbody>\n",
        "    <tr>\n",
        "      <th>Monopoly/Collusion</th>\n",
        "      <td> 0.225</td>\n",
        "      <td> 0.450</td>\n",
        "      <td> 0.250</td>\n",
        "      <td> 0.500</td>\n",
        "      <td> 0.950</td>\n",
        "      <td> 0.900</td>\n",
        "      <td> 0.500</td>\n",
        "      <td> 0.689</td>\n",
        "      <td> 0.200</td>\n",
        "      <td> 0.328</td>\n",
        "      <td> 0.328</td>\n",
        "    </tr>\n",
        "    <tr>\n",
        "      <th>Cournot Competition</th>\n",
        "      <td> 0.300</td>\n",
        "      <td> 0.600</td>\n",
        "      <td> 0.333</td>\n",
        "      <td> 0.667</td>\n",
        "      <td> 1.267</td>\n",
        "      <td> 0.600</td>\n",
        "      <td> 0.333</td>\n",
        "      <td> 0.460</td>\n",
        "      <td> 0.133</td>\n",
        "      <td> 0.291</td>\n",
        "      <td> 0.291</td>\n",
        "    </tr>\n",
        "    <tr>\n",
        "      <th>One Firm Deviate</th>\n",
        "      <td> 0.225</td>\n",
        "      <td> 0.562</td>\n",
        "      <td> 0.250</td>\n",
        "      <td> 0.625</td>\n",
        "      <td> 1.188</td>\n",
        "      <td> 0.675</td>\n",
        "      <td> 0.375</td>\n",
        "      <td> 0.517</td>\n",
        "      <td> 0.150</td>\n",
        "      <td> 0.368</td>\n",
        "      <td> 0.246</td>\n",
        "    </tr>\n",
        "  </tbody>\n",
        "</table>\n",
        "</div>"
       ],
       "metadata": {},
       "output_type": "pyout",
       "prompt_number": 17,
       "text": [
        "                     Seats H  Seats H-Total  Seats L  Seats L-Total  \\\n",
        "Monopoly/Collusion     0.225          0.450    0.250          0.500   \n",
        "Cournot Competition    0.300          0.600    0.333          0.667   \n",
        "One Firm Deviate       0.225          0.562    0.250          0.625   \n",
        "\n",
        "                     Total Seats Sold  H Price  L Price  Avg Price  Price SD  \\\n",
        "Monopoly/Collusion              0.950    0.900    0.500      0.689     0.200   \n",
        "Cournot Competition             1.267    0.600    0.333      0.460     0.133   \n",
        "One Firm Deviate                1.188    0.675    0.375      0.517     0.150   \n",
        "\n",
        "                     Profit 1  Profit Others  \n",
        "Monopoly/Collusion      0.328          0.328  \n",
        "Cournot Competition     0.291          0.291  \n",
        "One Firm Deviate        0.368          0.246  "
       ]
      }
     ],
     "prompt_number": 17
    },
    {
     "cell_type": "code",
     "collapsed": false,
     "input": [
      "df_value.sum().sum() # Just a temporary test"
     ],
     "language": "python",
     "metadata": {},
     "outputs": [
      {
       "latex": [
        "$$15.7751762247$$"
       ],
       "metadata": {},
       "output_type": "pyout",
       "png": "[encoded data removed]",
       "prompt_number": 18,
       "text": [
        "15.7751762247"
       ]
      }
     ],
     "prompt_number": 18
    },
    {
     "cell_type": "code",
     "collapsed": false,
     "input": [
      "# Draw Demand and MR Curves\n",
      "import numpy as np\n",
      "import matplotlib.pyplot as plt\n",
      "import matplotlib.text as text\n",
      "\n",
      "x = np.arange(0,3,.02)\n",
      "pH_line = a_val - kH_val * x\n",
      "pL_line = 1 - kL_val * x\n",
      "MRH_line = a_val - 2*kH_val * x\n",
      "MRL_line = 1 - 2*kL_val * x\n",
      "\n",
      "fig, ax = plt.subplots()\n",
      "plt.plot(x,pH_line,x,pL_line,x,MRH_line,'k--',x,MRL_line,'k:')\n",
      "plt.legend((r\"$D_H$\", r\"$D_L$\", r\"$MR_H$\", r\"$MR_L$\"),\n",
      "           'upper center', shadow=True)\n",
      "plt.ylim([0,a_val*1.1])\n",
      "plt.xlim([0,1/kL_val])\n",
      "plt.grid(False)\n",
      "plt.xlabel('Quantity')\n",
      "plt.ylabel('Price')\n",
      "# plt.title('Minimum Message Length')"
     ],
     "language": "python",
     "metadata": {},
     "outputs": [
      {
       "metadata": {},
       "output_type": "pyout",
       "prompt_number": 19,
       "text": [
        "<matplotlib.text.Text at 0x10a4dfd10>"
       ]
      },
      {
       "metadata": {},
       "output_type": "display_data",
       "png": "[encoded data removed]",
       "text": [
        "<matplotlib.figure.Figure at 0x10a4cb250>"
       ]
      }
     ],
     "prompt_number": 19
    },
    {
     "cell_type": "code",
     "collapsed": false,
     "input": [],
     "language": "python",
     "metadata": {},
     "outputs": [],
     "prompt_number": 19
    },
    {
     "cell_type": "code",
     "collapsed": false,
     "input": [],
     "language": "python",
     "metadata": {},
     "outputs": [],
     "prompt_number": 19
    },
    {
     "cell_type": "code",
     "collapsed": false,
     "input": [],
     "language": "python",
     "metadata": {},
     "outputs": [],
     "prompt_number": 19
    },
    {
     "cell_type": "code",
     "collapsed": false,
     "input": [],
     "language": "python",
     "metadata": {},
     "outputs": [],
     "prompt_number": 19
    },
    {
     "cell_type": "code",
     "collapsed": false,
     "input": [],
     "language": "python",
     "metadata": {},
     "outputs": [],
     "prompt_number": 19
    },
    {
     "cell_type": "code",
     "collapsed": false,
     "input": [],
     "language": "python",
     "metadata": {},
     "outputs": [],
     "prompt_number": 19
    }
   ],
   "metadata": {}
  }
 ]
}